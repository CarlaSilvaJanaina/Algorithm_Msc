{
 "cells": [
  {
   "cell_type": "code",
   "metadata": {
    "tags": [],
    "cell_id": "00000-f2a49281-d09a-4318-abe9-fd3806a9d9e8",
    "deepnote_to_be_reexecuted": false,
    "source_hash": "258a3844",
    "execution_millis": 21,
    "execution_start": 1613347575074,
    "deepnote_cell_type": "code",
    "deepnote_cell_height": 732
   },
   "source": "import pandas as pd\nodim_df = pd.read_csv('ODIM-2.csv')\nodim_df.info()",
   "execution_count": null,
   "outputs": [
    {
     "name": "stdout",
     "text": "<class 'pandas.core.frame.DataFrame'>\nRangeIndex: 193 entries, 0 to 192\nData columns (total 32 columns):\n #   Column                                              Non-Null Count  Dtype  \n---  ------                                              --------------  -----  \n 0   Register number                                     175 non-null    float64\n 1   Pesticide Exposure                                  71 non-null     object \n 2   Biopsy histology                                    175 non-null    object \n 3   Estrogen Receptors  (% of labeling)                 85 non-null     object \n 4   Affected Limphnodes                                 64 non-null     object \n 5   Progesterone receptors (% of labeling)              78 non-null     object \n 6   Is the sample negative for progesterone receptors?  78 non-null     object \n 7   HER2 amplification                                  72 non-null     object \n 8   ki67 proliferation index (%)                        86 non-null     object \n 9   Molecular subtype of tumor                          70 non-null     object \n 10  Tumor size (mm)                                     69 non-null     float64\n 11  Histological grade                                  69 non-null     float64\n 12  Clots presence                                      74 non-null     object \n 13  Lymphnodal metastasis                               64 non-null     object \n 14  % of positive Lymphnodes evaluated                  64 non-null     float64\n 15  TNM staging                                         55 non-null     object \n 16  Risk stratification                                 65 non-null     object \n 17  Familial history (1st degree relatives)             99 non-null     object \n 18  Age at diagnosis                                    174 non-null    float64\n 19  Early onset (Dx under 50 years)                     174 non-null    object \n 20  Menopause at diagnosis                              158 non-null    object \n 21  Weight (kg)                                         95 non-null     float64\n 22  Height (m)                                          90 non-null     float64\n 23  BMI (kg/m2)                                         90 non-null     float64\n 24  Trophic-adipose status                              90 non-null     object \n 25  Metastasis sites                                    70 non-null     object \n 26  Chemoresistance                                     81 non-null     object \n 27  Reccurence                                          116 non-null    object \n 28  Disease-Free Survival (months)                      0 non-null      float64\n 29  Death                                               175 non-null    object \n 30  Death at                                            7 non-null      object \n 31  Municipality                                        132 non-null    object \ndtypes: float64(9), object(23)\nmemory usage: 48.4+ KB\n",
     "output_type": "stream"
    }
   ]
  },
  {
   "cell_type": "code",
   "metadata": {
    "tags": [],
    "cell_id": "00001-9de012d9-019e-4f5c-9a6c-3de59046ed67",
    "deepnote_to_be_reexecuted": false,
    "source_hash": "a43060f2",
    "execution_millis": 9,
    "execution_start": 1613347575118,
    "deepnote_cell_type": "code",
    "deepnote_cell_height": 732
   },
   "source": "#Selecionando os casos de câncer de mama.\nodim_df = odim_df[odim_df['Biopsy histology'] == 'breast cancer']\nodim_df.info()",
   "execution_count": null,
   "outputs": [
    {
     "name": "stdout",
     "text": "<class 'pandas.core.frame.DataFrame'>\nInt64Index: 70 entries, 2 to 174\nData columns (total 32 columns):\n #   Column                                              Non-Null Count  Dtype  \n---  ------                                              --------------  -----  \n 0   Register number                                     70 non-null     float64\n 1   Pesticide Exposure                                  32 non-null     object \n 2   Biopsy histology                                    70 non-null     object \n 3   Estrogen Receptors  (% of labeling)                 67 non-null     object \n 4   Affected Limphnodes                                 53 non-null     object \n 5   Progesterone receptors (% of labeling)              67 non-null     object \n 6   Is the sample negative for progesterone receptors?  67 non-null     object \n 7   HER2 amplification                                  66 non-null     object \n 8   ki67 proliferation index (%)                        67 non-null     object \n 9   Molecular subtype of tumor                          65 non-null     object \n 10  Tumor size (mm)                                     67 non-null     float64\n 11  Histological grade                                  67 non-null     float64\n 12  Clots presence                                      60 non-null     object \n 13  Lymphnodal metastasis                               53 non-null     object \n 14  % of positive Lymphnodes evaluated                  53 non-null     float64\n 15  TNM staging                                         46 non-null     object \n 16  Risk stratification                                 64 non-null     object \n 17  Familial history (1st degree relatives)             37 non-null     object \n 18  Age at diagnosis                                    70 non-null     float64\n 19  Early onset (Dx under 50 years)                     70 non-null     object \n 20  Menopause at diagnosis                              63 non-null     object \n 21  Weight (kg)                                         49 non-null     float64\n 22  Height (m)                                          46 non-null     float64\n 23  BMI (kg/m2)                                         46 non-null     float64\n 24  Trophic-adipose status                              46 non-null     object \n 25  Metastasis sites                                    58 non-null     object \n 26  Chemoresistance                                     62 non-null     object \n 27  Reccurence                                          44 non-null     object \n 28  Disease-Free Survival (months)                      0 non-null      float64\n 29  Death                                               70 non-null     object \n 30  Death at                                            6 non-null      object \n 31  Municipality                                        51 non-null     object \ndtypes: float64(9), object(23)\nmemory usage: 18.0+ KB\n",
     "output_type": "stream"
    }
   ]
  },
  {
   "cell_type": "code",
   "metadata": {
    "tags": [],
    "cell_id": "00001-d60750a2-5930-4623-964f-a08ae0456e99",
    "deepnote_to_be_reexecuted": false,
    "source_hash": "767e50ee",
    "execution_millis": 23,
    "execution_start": 1613347575120,
    "deepnote_cell_type": "code",
    "deepnote_cell_height": 468.375
   },
   "source": "odim_df = odim_df.iloc[:,[0, 4, 3, 5, 9, 10, 11, 18, 23, 1, 16]]\nodim_df.info()",
   "execution_count": null,
   "outputs": [
    {
     "name": "stdout",
     "text": "<class 'pandas.core.frame.DataFrame'>\nInt64Index: 70 entries, 2 to 174\nData columns (total 11 columns):\n #   Column                                  Non-Null Count  Dtype  \n---  ------                                  --------------  -----  \n 0   Register number                         70 non-null     float64\n 1   Affected Limphnodes                     53 non-null     object \n 2   Estrogen Receptors  (% of labeling)     67 non-null     object \n 3   Progesterone receptors (% of labeling)  67 non-null     object \n 4   Molecular subtype of tumor              65 non-null     object \n 5   Tumor size (mm)                         67 non-null     float64\n 6   Histological grade                      67 non-null     float64\n 7   Age at diagnosis                        70 non-null     float64\n 8   BMI (kg/m2)                             46 non-null     float64\n 9   Pesticide Exposure                      32 non-null     object \n 10  Risk stratification                     64 non-null     object \ndtypes: float64(5), object(6)\nmemory usage: 6.6+ KB\n",
     "output_type": "stream"
    }
   ]
  },
  {
   "cell_type": "code",
   "metadata": {
    "tags": [],
    "cell_id": "00003-27a9852f-9b6b-4df3-8c7c-87ab8f88ffbf",
    "deepnote_to_be_reexecuted": false,
    "source_hash": "a35bc409",
    "execution_millis": 30,
    "execution_start": 1613347575133,
    "deepnote_cell_type": "code",
    "deepnote_cell_height": 738.375
   },
   "source": "#Renomeando as colunas de acordo com a função de estratificação.\nrename_colunms_odim_df = {\n    'Register number':'Número de registro',\n    'Affected Limphnodes':'linfonodo',\n    'Estrogen Receptors  (% of labeling)': 'RE',\n    'Progesterone receptors (% of labeling)': 'RP',\n    'Molecular subtype of tumor': 'subtipo',\n    'Tumor size (mm)': 'pT',\n    'Histological grade': 'grau',\n    'Age at diagnosis': 'idade',\n    'BMI (kg/m2)': 'BMI',\n    'Pesticide Exposure': 'Pest',\n    'Risk stratification': 'strat',\n\n}\nodim_df.rename(columns=rename_colunms_odim_df, inplace = True)\nodim_df.info()",
   "execution_count": null,
   "outputs": [
    {
     "name": "stdout",
     "text": "<class 'pandas.core.frame.DataFrame'>\nInt64Index: 70 entries, 2 to 174\nData columns (total 11 columns):\n #   Column              Non-Null Count  Dtype  \n---  ------              --------------  -----  \n 0   Número de registro  70 non-null     float64\n 1   linfonodo           53 non-null     object \n 2   RE                  67 non-null     object \n 3   RP                  67 non-null     object \n 4   subtipo             65 non-null     object \n 5   pT                  67 non-null     float64\n 6   grau                67 non-null     float64\n 7   idade               70 non-null     float64\n 8   BMI                 46 non-null     float64\n 9   Pest                32 non-null     object \n 10  strat               64 non-null     object \ndtypes: float64(5), object(6)\nmemory usage: 6.6+ KB\n",
     "output_type": "stream"
    }
   ]
  },
  {
   "cell_type": "code",
   "metadata": {
    "tags": [],
    "cell_id": "00005-9aac13a6-4660-4f1a-94c6-194d59abee1f",
    "deepnote_to_be_reexecuted": false,
    "source_hash": "cdc0a13d",
    "execution_millis": 15,
    "execution_start": 1613347575148,
    "deepnote_cell_type": "code",
    "deepnote_cell_height": 223.75,
    "deepnote_output_heights": [
     77.75
    ]
   },
   "source": "for coluna in odim_df.columns:\n    if type(odim_df[coluna].iloc[0]) == str:\n        odim_df[coluna] = odim_df[coluna].str.strip()\nodim_df['strat'].value_counts()",
   "execution_count": null,
   "outputs": [
    {
     "output_type": "execute_result",
     "execution_count": 5,
     "data": {
      "text/plain": "Intermediate    37\nHigh            18\nLow              9\nName: strat, dtype: int64"
     },
     "metadata": {}
    }
   ]
  },
  {
   "cell_type": "code",
   "metadata": {
    "tags": [],
    "cell_id": "00006-7b587cf0-51fe-44bb-b63c-f6804bb8d3f0",
    "deepnote_to_be_reexecuted": false,
    "source_hash": "59b315e1",
    "execution_millis": 13,
    "execution_start": 1613347575154,
    "deepnote_cell_type": "code",
    "deepnote_cell_height": 206.9375,
    "deepnote_output_heights": [
     96.9375
    ]
   },
   "source": "odim_df['subtipo'] = odim_df['subtipo'].str.lower()\nodim_df['subtipo'].value_counts()",
   "execution_count": null,
   "outputs": [
    {
     "output_type": "execute_result",
     "execution_count": 6,
     "data": {
      "text/plain": "luminal a          25\nluminal b          20\ntriple negative    11\nher2 amplified      9\nName: subtipo, dtype: int64"
     },
     "metadata": {}
    }
   ]
  },
  {
   "cell_type": "code",
   "metadata": {
    "tags": [],
    "cell_id": "00006-f174feb6-3dc5-4376-be45-36b6e9caf344",
    "deepnote_to_be_reexecuted": false,
    "source_hash": "df0d2419",
    "execution_millis": 22,
    "execution_start": 1613347575179,
    "deepnote_cell_type": "code",
    "deepnote_cell_height": 314.9375,
    "deepnote_output_heights": [
     96.9375
    ]
   },
   "source": "coluna = 'subtipo'\nreplace_odim_df = {\n    'her2 amplified': 'her-2',\n    'triple negative': 'triplo negativo',\n    'luminal-her2 amplified': 'luminal-her',\n}\nodim_df[coluna].replace(replace_odim_df, inplace=True)\nodim_df[coluna].value_counts()",
   "execution_count": null,
   "outputs": [
    {
     "output_type": "execute_result",
     "execution_count": 7,
     "data": {
      "text/plain": "luminal a          25\nluminal b          20\ntriplo negativo    11\nher-2               9\nName: subtipo, dtype: int64"
     },
     "metadata": {}
    }
   ]
  },
  {
   "cell_type": "code",
   "metadata": {
    "tags": [],
    "cell_id": "00007-ee7879fc-5eee-49b4-aa72-3a54ae90a4c1",
    "deepnote_to_be_reexecuted": false,
    "source_hash": "2137532",
    "execution_millis": 21,
    "execution_start": 1613347575180,
    "deepnote_cell_type": "code",
    "deepnote_cell_height": 226.125,
    "deepnote_output_heights": [
     116.125
    ]
   },
   "source": "coluna = 'linfonodo'\nodim_df[coluna].value_counts()",
   "execution_count": null,
   "outputs": [
    {
     "output_type": "execute_result",
     "execution_count": 8,
     "data": {
      "text/plain": "0        35\n1 - 3    11\n4 - 7     4\n1- 3      2\n>7        1\nName: linfonodo, dtype: int64"
     },
     "metadata": {}
    }
   ]
  },
  {
   "cell_type": "code",
   "metadata": {
    "tags": [],
    "cell_id": "00007-a6915eec-2e5e-46a6-9a8d-31de10ac8763",
    "deepnote_to_be_reexecuted": false,
    "source_hash": "cfd46b1d",
    "execution_millis": 21,
    "execution_start": 1613347575181,
    "deepnote_cell_type": "code",
    "deepnote_cell_height": 295.75,
    "deepnote_output_heights": [
     77.75
    ]
   },
   "source": "replace_odim_df = {\n    '1 - 3': 1,\n    '1- 3': 1,\n    '4 - 7': 4,\n    '>7': 4\n}\nodim_df[coluna].replace(replace_odim_df, inplace=True)\nodim_df[coluna].value_counts()",
   "execution_count": null,
   "outputs": [
    {
     "output_type": "execute_result",
     "execution_count": 9,
     "data": {
      "text/plain": "0    35\n1    13\n4     5\nName: linfonodo, dtype: int64"
     },
     "metadata": {}
    }
   ]
  },
  {
   "cell_type": "code",
   "metadata": {
    "tags": [],
    "cell_id": "00009-c30d5fc7-ee2d-4d20-8bd3-5499a73249b2",
    "deepnote_to_be_reexecuted": false,
    "source_hash": "3d90c2eb",
    "execution_millis": 16,
    "execution_start": 1613347575186,
    "deepnote_cell_type": "code",
    "deepnote_cell_height": 360.4375,
    "deepnote_output_heights": [
     250.4375
    ]
   },
   "source": "coluna = 'RE'\nodim_df[coluna].value_counts()",
   "execution_count": null,
   "outputs": [
    {
     "output_type": "execute_result",
     "execution_count": 10,
     "data": {
      "text/plain": "100%    26\n0%      19\n90%      5\n80%      5\n20%      5\n70%      1\n40%      1\n30%      1\n15%      1\n60%      1\n10%      1\n50%      1\nName: RE, dtype: int64"
     },
     "metadata": {}
    }
   ]
  },
  {
   "cell_type": "code",
   "metadata": {
    "tags": [],
    "cell_id": "00010-fced1273-9712-4897-a8d2-52866ce5009c",
    "deepnote_to_be_reexecuted": false,
    "source_hash": "ae078ee5",
    "execution_millis": 10,
    "execution_start": 1613347575199,
    "deepnote_cell_type": "code",
    "deepnote_cell_height": 186.5625,
    "deepnote_output_heights": [
     58.5625
    ]
   },
   "source": "index_re = odim_df[odim_df[coluna] != '0%'].index\nodim_df.loc[index_re, coluna] = True\nodim_df[coluna].value_counts()",
   "execution_count": null,
   "outputs": [
    {
     "output_type": "execute_result",
     "execution_count": 11,
     "data": {
      "text/plain": "True    51\n0%      19\nName: RE, dtype: int64"
     },
     "metadata": {}
    }
   ]
  },
  {
   "cell_type": "code",
   "metadata": {
    "tags": [],
    "cell_id": "00008-3ad53390-ce09-4757-96cb-8154aa6703c0",
    "deepnote_to_be_reexecuted": false,
    "source_hash": "16c9b659",
    "execution_millis": 5,
    "execution_start": 1613347575213,
    "deepnote_cell_type": "code",
    "deepnote_cell_height": 186.5625,
    "deepnote_output_heights": [
     58.5625
    ]
   },
   "source": "index_re = odim_df[odim_df[coluna] == '0%'].index\nodim_df.loc[index_re, coluna] = False\nodim_df[coluna].value_counts()",
   "execution_count": null,
   "outputs": [
    {
     "output_type": "execute_result",
     "execution_count": 12,
     "data": {
      "text/plain": "True     51\nFalse    19\nName: RE, dtype: int64"
     },
     "metadata": {}
    }
   ]
  },
  {
   "cell_type": "code",
   "metadata": {
    "tags": [],
    "cell_id": "00011-50ab65c4-f2a1-4328-8877-460387751ba9",
    "deepnote_to_be_reexecuted": false,
    "source_hash": "a827fb30",
    "execution_millis": 9,
    "execution_start": 1613347575242,
    "deepnote_cell_type": "code",
    "deepnote_cell_height": 240.5625,
    "deepnote_output_heights": [
     58.5625
    ]
   },
   "source": "coluna = 'RP'\nindex_re = odim_df[odim_df[coluna] != '0%'].index\nodim_df.loc[index_re, coluna] = True\nindex_re = odim_df[odim_df[coluna] == '0%'].index\nodim_df.loc[index_re, coluna] = False\nodim_df[coluna].value_counts()",
   "execution_count": null,
   "outputs": [
    {
     "output_type": "execute_result",
     "execution_count": 13,
     "data": {
      "text/plain": "True     37\nFalse    33\nName: RP, dtype: int64"
     },
     "metadata": {}
    }
   ]
  },
  {
   "cell_type": "code",
   "metadata": {
    "tags": [],
    "cell_id": "00013-c0cfcc63-72af-4a4c-964b-8edaa73973a5",
    "deepnote_to_be_reexecuted": false,
    "source_hash": "f8a2e7cf",
    "execution_millis": 8,
    "execution_start": 1613347575243,
    "deepnote_cell_type": "code",
    "deepnote_cell_height": 168.5625,
    "deepnote_output_heights": [
     58.5625
    ]
   },
   "source": "coluna = 'Pest'\nodim_df[coluna].value_counts()",
   "execution_count": null,
   "outputs": [
    {
     "output_type": "execute_result",
     "execution_count": 14,
     "data": {
      "text/plain": "yes    18\nno     14\nName: Pest, dtype: int64"
     },
     "metadata": {}
    }
   ]
  },
  {
   "cell_type": "code",
   "metadata": {
    "tags": [],
    "cell_id": "00013-040c558d-be5f-4b7d-a543-34456a1f154c",
    "deepnote_to_be_reexecuted": false,
    "source_hash": "3f0e311a",
    "execution_millis": 9,
    "execution_start": 1613347575244,
    "deepnote_cell_type": "code",
    "deepnote_cell_height": 240.5625,
    "deepnote_output_heights": [
     58.5625
    ]
   },
   "source": "replace_odim_df = {\n    'yes': True,\n    'no': False\n}\nodim_df[coluna].replace(replace_odim_df, inplace=True)\nodim_df[coluna].value_counts()",
   "execution_count": null,
   "outputs": [
    {
     "output_type": "execute_result",
     "execution_count": 15,
     "data": {
      "text/plain": "True     18\nFalse    14\nName: Pest, dtype: int64"
     },
     "metadata": {}
    }
   ]
  },
  {
   "cell_type": "code",
   "metadata": {
    "tags": [],
    "cell_id": "00011-8dd24737-2107-460f-850c-af4c5db04bfe",
    "deepnote_to_be_reexecuted": false,
    "source_hash": "4e5d7070",
    "execution_millis": 6,
    "execution_start": 1613347575258,
    "deepnote_cell_type": "code",
    "deepnote_cell_height": 522.375
   },
   "source": "coluna = 'BMI'\nodim_df[coluna] = odim_df[coluna].round(2)\nmean_coluna = odim_df[coluna].mean()\nodim_df[coluna].fillna(value=mean_coluna, inplace=True)\nodim_df.info()",
   "execution_count": null,
   "outputs": [
    {
     "name": "stdout",
     "text": "<class 'pandas.core.frame.DataFrame'>\nInt64Index: 70 entries, 2 to 174\nData columns (total 11 columns):\n #   Column              Non-Null Count  Dtype  \n---  ------              --------------  -----  \n 0   Número de registro  70 non-null     float64\n 1   linfonodo           53 non-null     object \n 2   RE                  70 non-null     object \n 3   RP                  70 non-null     object \n 4   subtipo             65 non-null     object \n 5   pT                  67 non-null     float64\n 6   grau                67 non-null     float64\n 7   idade               70 non-null     float64\n 8   BMI                 70 non-null     float64\n 9   Pest                32 non-null     object \n 10  strat               64 non-null     object \ndtypes: float64(5), object(6)\nmemory usage: 8.6+ KB\n",
     "output_type": "stream"
    }
   ]
  },
  {
   "cell_type": "code",
   "metadata": {
    "tags": [],
    "cell_id": "00016-53edf18c-e0cb-4478-b807-2ceefdff5ff1",
    "deepnote_to_be_reexecuted": false,
    "source_hash": "795c2d1e",
    "execution_millis": 7,
    "execution_start": 1613347575272,
    "deepnote_cell_type": "code",
    "deepnote_cell_height": 504.375
   },
   "source": "coluna = 'pT'\nmean_coluna = odim_df[coluna].mean()\nodim_df[coluna].fillna(value=mean_coluna, inplace=True)\nodim_df.info()",
   "execution_count": null,
   "outputs": [
    {
     "name": "stdout",
     "text": "<class 'pandas.core.frame.DataFrame'>\nInt64Index: 70 entries, 2 to 174\nData columns (total 11 columns):\n #   Column              Non-Null Count  Dtype  \n---  ------              --------------  -----  \n 0   Número de registro  70 non-null     float64\n 1   linfonodo           53 non-null     object \n 2   RE                  70 non-null     object \n 3   RP                  70 non-null     object \n 4   subtipo             65 non-null     object \n 5   pT                  70 non-null     float64\n 6   grau                67 non-null     float64\n 7   idade               70 non-null     float64\n 8   BMI                 70 non-null     float64\n 9   Pest                32 non-null     object \n 10  strat               64 non-null     object \ndtypes: float64(5), object(6)\nmemory usage: 8.6+ KB\n",
     "output_type": "stream"
    }
   ]
  },
  {
   "cell_type": "code",
   "metadata": {
    "tags": [],
    "cell_id": "00017-8f6e2b53-1b3b-4564-b71c-5a9903faed3c",
    "deepnote_to_be_reexecuted": false,
    "source_hash": "2d4cca86",
    "execution_millis": 7,
    "execution_start": 1613347575284,
    "deepnote_cell_type": "code",
    "deepnote_cell_height": 504.375
   },
   "source": "coluna = 'grau'\nmean_coluna = odim_df[coluna].mean()\nodim_df[coluna].fillna(value=mean_coluna, inplace=True)\nodim_df.info()",
   "execution_count": null,
   "outputs": [
    {
     "name": "stdout",
     "text": "<class 'pandas.core.frame.DataFrame'>\nInt64Index: 70 entries, 2 to 174\nData columns (total 11 columns):\n #   Column              Non-Null Count  Dtype  \n---  ------              --------------  -----  \n 0   Número de registro  70 non-null     float64\n 1   linfonodo           53 non-null     object \n 2   RE                  70 non-null     object \n 3   RP                  70 non-null     object \n 4   subtipo             65 non-null     object \n 5   pT                  70 non-null     float64\n 6   grau                70 non-null     float64\n 7   idade               70 non-null     float64\n 8   BMI                 70 non-null     float64\n 9   Pest                32 non-null     object \n 10  strat               64 non-null     object \ndtypes: float64(5), object(6)\nmemory usage: 8.6+ KB\n",
     "output_type": "stream"
    }
   ]
  },
  {
   "cell_type": "code",
   "metadata": {
    "tags": [],
    "cell_id": "00018-c48e1069-9150-44a7-9d79-59e3b55f2de5",
    "deepnote_to_be_reexecuted": false,
    "source_hash": "14b98d5c",
    "execution_millis": 7,
    "execution_start": 1613347575295,
    "deepnote_cell_type": "code",
    "deepnote_cell_height": 504.375
   },
   "source": "coluna = 'linfonodo'\nmean_coluna = odim_df[coluna].dropna().astype('int64').mean()\nodim_df[coluna].fillna(value=mean_coluna, inplace=True)\nodim_df.info()",
   "execution_count": null,
   "outputs": [
    {
     "name": "stdout",
     "text": "<class 'pandas.core.frame.DataFrame'>\nInt64Index: 70 entries, 2 to 174\nData columns (total 11 columns):\n #   Column              Non-Null Count  Dtype  \n---  ------              --------------  -----  \n 0   Número de registro  70 non-null     float64\n 1   linfonodo           70 non-null     object \n 2   RE                  70 non-null     object \n 3   RP                  70 non-null     object \n 4   subtipo             65 non-null     object \n 5   pT                  70 non-null     float64\n 6   grau                70 non-null     float64\n 7   idade               70 non-null     float64\n 8   BMI                 70 non-null     float64\n 9   Pest                32 non-null     object \n 10  strat               64 non-null     object \ndtypes: float64(5), object(6)\nmemory usage: 8.6+ KB\n",
     "output_type": "stream"
    }
   ]
  },
  {
   "cell_type": "code",
   "metadata": {
    "tags": [],
    "cell_id": "00019-e1058d81-4007-43cd-818b-4998895d3c39",
    "deepnote_to_be_reexecuted": false,
    "source_hash": "86c32970",
    "execution_millis": 14,
    "execution_start": 1613347575308,
    "deepnote_cell_type": "code",
    "deepnote_cell_height": 504.375
   },
   "source": "coluna = 'subtipo'\nindex_isna_coluna = odim_df[odim_df[coluna].isna()].index\nodim_df = odim_df.drop(index=index_isna_coluna)\nodim_df.info()",
   "execution_count": null,
   "outputs": [
    {
     "name": "stdout",
     "text": "<class 'pandas.core.frame.DataFrame'>\nInt64Index: 65 entries, 2 to 174\nData columns (total 11 columns):\n #   Column              Non-Null Count  Dtype  \n---  ------              --------------  -----  \n 0   Número de registro  65 non-null     float64\n 1   linfonodo           65 non-null     object \n 2   RE                  65 non-null     object \n 3   RP                  65 non-null     object \n 4   subtipo             65 non-null     object \n 5   pT                  65 non-null     float64\n 6   grau                65 non-null     float64\n 7   idade               65 non-null     float64\n 8   BMI                 65 non-null     float64\n 9   Pest                31 non-null     object \n 10  strat               61 non-null     object \ndtypes: float64(5), object(6)\nmemory usage: 6.1+ KB\n",
     "output_type": "stream"
    }
   ]
  },
  {
   "cell_type": "code",
   "metadata": {
    "tags": [],
    "cell_id": "00014-83263e64-8238-4d37-add8-5940290c1abc",
    "deepnote_to_be_reexecuted": false,
    "source_hash": "41366c82",
    "execution_millis": 42,
    "execution_start": 1613347575317,
    "deepnote_cell_type": "code",
    "deepnote_cell_height": 268,
    "deepnote_output_heights": [
     176
    ]
   },
   "source": "odim_df.head()",
   "execution_count": null,
   "outputs": [
    {
     "output_type": "execute_result",
     "execution_count": 21,
     "data": {
      "application/vnd.deepnote.dataframe.v2+json": {
       "row_count": 5,
       "column_count": 11,
       "columns": [
        {
         "name": "Número de registro",
         "dtype": "float64",
         "stats": {
          "unique_count": 5,
          "nan_count": 0,
          "min": 40,
          "max": 325,
          "histogram": [
           {
            "bin_start": 40,
            "bin_end": 68.5,
            "count": 1
           },
           {
            "bin_start": 68.5,
            "bin_end": 97,
            "count": 0
           },
           {
            "bin_start": 97,
            "bin_end": 125.5,
            "count": 2
           },
           {
            "bin_start": 125.5,
            "bin_end": 154,
            "count": 0
           },
           {
            "bin_start": 154,
            "bin_end": 182.5,
            "count": 0
           },
           {
            "bin_start": 182.5,
            "bin_end": 211,
            "count": 0
           },
           {
            "bin_start": 211,
            "bin_end": 239.5,
            "count": 0
           },
           {
            "bin_start": 239.5,
            "bin_end": 268,
            "count": 0
           },
           {
            "bin_start": 268,
            "bin_end": 296.5,
            "count": 0
           },
           {
            "bin_start": 296.5,
            "bin_end": 325,
            "count": 2
           }
          ]
         }
        },
        {
         "name": "linfonodo",
         "dtype": "object",
         "stats": {
          "unique_count": 4,
          "nan_count": 0,
          "categories": [
           {
            "name": "0",
            "count": 2
           },
           {
            "name": "4",
            "count": 1
           },
           {
            "name": "2 others",
            "count": 2
           }
          ]
         }
        },
        {
         "name": "RE",
         "dtype": "object",
         "stats": {
          "unique_count": 2,
          "nan_count": 0,
          "categories": [
           {
            "name": "True",
            "count": 4
           },
           {
            "name": "False",
            "count": 1
           }
          ]
         }
        },
        {
         "name": "RP",
         "dtype": "object",
         "stats": {
          "unique_count": 2,
          "nan_count": 0,
          "categories": [
           {
            "name": "True",
            "count": 3
           },
           {
            "name": "False",
            "count": 2
           }
          ]
         }
        },
        {
         "name": "subtipo",
         "dtype": "object",
         "stats": {
          "unique_count": 3,
          "nan_count": 0,
          "categories": [
           {
            "name": "luminal a",
            "count": 3
           },
           {
            "name": "luminal b",
            "count": 1
           },
           {
            "name": "her-2",
            "count": 1
           }
          ]
         }
        },
        {
         "name": "pT",
         "dtype": "float64",
         "stats": {
          "unique_count": 5,
          "nan_count": 0,
          "min": 4,
          "max": 60,
          "histogram": [
           {
            "bin_start": 4,
            "bin_end": 9.6,
            "count": 1
           },
           {
            "bin_start": 9.6,
            "bin_end": 15.2,
            "count": 1
           },
           {
            "bin_start": 15.2,
            "bin_end": 20.799999999999997,
            "count": 1
           },
           {
            "bin_start": 20.799999999999997,
            "bin_end": 26.4,
            "count": 0
           },
           {
            "bin_start": 26.4,
            "bin_end": 32,
            "count": 1
           },
           {
            "bin_start": 32,
            "bin_end": 37.599999999999994,
            "count": 0
           },
           {
            "bin_start": 37.599999999999994,
            "bin_end": 43.199999999999996,
            "count": 0
           },
           {
            "bin_start": 43.199999999999996,
            "bin_end": 48.8,
            "count": 0
           },
           {
            "bin_start": 48.8,
            "bin_end": 54.4,
            "count": 0
           },
           {
            "bin_start": 54.4,
            "bin_end": 60,
            "count": 1
           }
          ]
         }
        },
        {
         "name": "grau",
         "dtype": "float64",
         "stats": {
          "unique_count": 4,
          "nan_count": 0,
          "min": 1,
          "max": 3,
          "histogram": [
           {
            "bin_start": 1,
            "bin_end": 1.2,
            "count": 1
           },
           {
            "bin_start": 1.2,
            "bin_end": 1.4,
            "count": 0
           },
           {
            "bin_start": 1.4,
            "bin_end": 1.6,
            "count": 0
           },
           {
            "bin_start": 1.6,
            "bin_end": 1.8,
            "count": 0
           },
           {
            "bin_start": 1.8,
            "bin_end": 2,
            "count": 1
           },
           {
            "bin_start": 2,
            "bin_end": 2.2,
            "count": 2
           },
           {
            "bin_start": 2.2,
            "bin_end": 2.4000000000000004,
            "count": 0
           },
           {
            "bin_start": 2.4000000000000004,
            "bin_end": 2.6,
            "count": 0
           },
           {
            "bin_start": 2.6,
            "bin_end": 2.8,
            "count": 0
           },
           {
            "bin_start": 2.8,
            "bin_end": 3,
            "count": 1
           }
          ]
         }
        },
        {
         "name": "idade",
         "dtype": "float64",
         "stats": {
          "unique_count": 5,
          "nan_count": 0,
          "min": 54,
          "max": 86,
          "histogram": [
           {
            "bin_start": 54,
            "bin_end": 57.2,
            "count": 1
           },
           {
            "bin_start": 57.2,
            "bin_end": 60.4,
            "count": 1
           },
           {
            "bin_start": 60.4,
            "bin_end": 63.6,
            "count": 1
           },
           {
            "bin_start": 63.6,
            "bin_end": 66.8,
            "count": 0
           },
           {
            "bin_start": 66.8,
            "bin_end": 70,
            "count": 0
           },
           {
            "bin_start": 70,
            "bin_end": 73.2,
            "count": 1
           },
           {
            "bin_start": 73.2,
            "bin_end": 76.4,
            "count": 0
           },
           {
            "bin_start": 76.4,
            "bin_end": 79.6,
            "count": 0
           },
           {
            "bin_start": 79.6,
            "bin_end": 82.8,
            "count": 0
           },
           {
            "bin_start": 82.8,
            "bin_end": 86,
            "count": 1
           }
          ]
         }
        },
        {
         "name": "BMI",
         "dtype": "float64",
         "stats": {
          "unique_count": 5,
          "nan_count": 0,
          "min": 22.27,
          "max": 39.96,
          "histogram": [
           {
            "bin_start": 22.27,
            "bin_end": 24.039,
            "count": 1
           },
           {
            "bin_start": 24.039,
            "bin_end": 25.808,
            "count": 1
           },
           {
            "bin_start": 25.808,
            "bin_end": 27.576999999999998,
            "count": 1
           },
           {
            "bin_start": 27.576999999999998,
            "bin_end": 29.346,
            "count": 0
           },
           {
            "bin_start": 29.346,
            "bin_end": 31.115000000000002,
            "count": 0
           },
           {
            "bin_start": 31.115000000000002,
            "bin_end": 32.884,
            "count": 0
           },
           {
            "bin_start": 32.884,
            "bin_end": 34.653,
            "count": 1
           },
           {
            "bin_start": 34.653,
            "bin_end": 36.422,
            "count": 0
           },
           {
            "bin_start": 36.422,
            "bin_end": 38.191,
            "count": 0
           },
           {
            "bin_start": 38.191,
            "bin_end": 39.96,
            "count": 1
           }
          ]
         }
        },
        {
         "name": "Pest",
         "dtype": "object",
         "stats": {
          "unique_count": 1,
          "nan_count": 2,
          "categories": [
           {
            "name": "True",
            "count": 3
           },
           {
            "name": "Missing",
            "count": 2
           }
          ]
         }
        },
        {
         "name": "strat",
         "dtype": "object",
         "stats": {
          "unique_count": 3,
          "nan_count": 0,
          "categories": [
           {
            "name": "Intermediate",
            "count": 2
           },
           {
            "name": "Low",
            "count": 2
           },
           {
            "name": "High",
            "count": 1
           }
          ]
         }
        },
        {
         "name": "_deepnote_index_column",
         "dtype": "int64"
        }
       ],
       "rows_top": [
        {
         "Número de registro": 40,
         "linfonodo": "4",
         "RE": true,
         "RP": false,
         "subtipo": "luminal b",
         "pT": 60,
         "grau": 3,
         "idade": 63,
         "BMI": 27.55,
         "Pest": "nan",
         "strat": "Intermediate",
         "_deepnote_index_column": 2
        },
        {
         "Número de registro": 106,
         "linfonodo": "0.6226415094339622",
         "RE": true,
         "RP": true,
         "subtipo": "luminal a",
         "pT": 4,
         "grau": 1.8507462686567164,
         "idade": 54,
         "BMI": 24.24,
         "Pest": "True",
         "strat": "Low",
         "_deepnote_index_column": 3
        },
        {
         "Número de registro": 119,
         "linfonodo": "1",
         "RE": false,
         "RP": false,
         "subtipo": "her-2",
         "pT": 30,
         "grau": 2,
         "idade": 86,
         "BMI": 34.14,
         "Pest": "True",
         "strat": "High",
         "_deepnote_index_column": 4
        },
        {
         "Número de registro": 318,
         "linfonodo": "0",
         "RE": true,
         "RP": true,
         "subtipo": "luminal a",
         "pT": 20,
         "grau": 1,
         "idade": 72,
         "BMI": 22.27,
         "Pest": "True",
         "strat": "Low",
         "_deepnote_index_column": 6
        },
        {
         "Número de registro": 325,
         "linfonodo": "0",
         "RE": true,
         "RP": true,
         "subtipo": "luminal a",
         "pT": 10,
         "grau": 2,
         "idade": 60,
         "BMI": 39.96,
         "Pest": "nan",
         "strat": "Intermediate",
         "_deepnote_index_column": 9
        }
       ],
       "rows_bottom": null
      },
      "text/plain": "   Número de registro linfonodo     RE     RP    subtipo    pT      grau  \\\n2                40.0         4   True  False  luminal b  60.0  3.000000   \n3               106.0  0.622642   True   True  luminal a   4.0  1.850746   \n4               119.0         1  False  False      her-2  30.0  2.000000   \n6               318.0         0   True   True  luminal a  20.0  1.000000   \n9               325.0         0   True   True  luminal a  10.0  2.000000   \n\n   idade    BMI  Pest         strat  \n2   63.0  27.55   NaN  Intermediate  \n3   54.0  24.24  True           Low  \n4   86.0  34.14  True          High  \n6   72.0  22.27  True           Low  \n9   60.0  39.96   NaN  Intermediate  ",
      "text/html": "<div>\n<style scoped>\n    .dataframe tbody tr th:only-of-type {\n        vertical-align: middle;\n    }\n\n    .dataframe tbody tr th {\n        vertical-align: top;\n    }\n\n    .dataframe thead th {\n        text-align: right;\n    }\n</style>\n<table border=\"1\" class=\"dataframe\">\n  <thead>\n    <tr style=\"text-align: right;\">\n      <th></th>\n      <th>Número de registro</th>\n      <th>linfonodo</th>\n      <th>RE</th>\n      <th>RP</th>\n      <th>subtipo</th>\n      <th>pT</th>\n      <th>grau</th>\n      <th>idade</th>\n      <th>BMI</th>\n      <th>Pest</th>\n      <th>strat</th>\n    </tr>\n  </thead>\n  <tbody>\n    <tr>\n      <th>2</th>\n      <td>40.0</td>\n      <td>4</td>\n      <td>True</td>\n      <td>False</td>\n      <td>luminal b</td>\n      <td>60.0</td>\n      <td>3.000000</td>\n      <td>63.0</td>\n      <td>27.55</td>\n      <td>NaN</td>\n      <td>Intermediate</td>\n    </tr>\n    <tr>\n      <th>3</th>\n      <td>106.0</td>\n      <td>0.622642</td>\n      <td>True</td>\n      <td>True</td>\n      <td>luminal a</td>\n      <td>4.0</td>\n      <td>1.850746</td>\n      <td>54.0</td>\n      <td>24.24</td>\n      <td>True</td>\n      <td>Low</td>\n    </tr>\n    <tr>\n      <th>4</th>\n      <td>119.0</td>\n      <td>1</td>\n      <td>False</td>\n      <td>False</td>\n      <td>her-2</td>\n      <td>30.0</td>\n      <td>2.000000</td>\n      <td>86.0</td>\n      <td>34.14</td>\n      <td>True</td>\n      <td>High</td>\n    </tr>\n    <tr>\n      <th>6</th>\n      <td>318.0</td>\n      <td>0</td>\n      <td>True</td>\n      <td>True</td>\n      <td>luminal a</td>\n      <td>20.0</td>\n      <td>1.000000</td>\n      <td>72.0</td>\n      <td>22.27</td>\n      <td>True</td>\n      <td>Low</td>\n    </tr>\n    <tr>\n      <th>9</th>\n      <td>325.0</td>\n      <td>0</td>\n      <td>True</td>\n      <td>True</td>\n      <td>luminal a</td>\n      <td>10.0</td>\n      <td>2.000000</td>\n      <td>60.0</td>\n      <td>39.96</td>\n      <td>NaN</td>\n      <td>Intermediate</td>\n    </tr>\n  </tbody>\n</table>\n</div>"
     },
     "metadata": {}
    }
   ]
  },
  {
   "cell_type": "code",
   "metadata": {
    "tags": [],
    "cell_id": "00014-bfd07032-d8a8-4f8e-9598-05deb39196d9",
    "deepnote_to_be_reexecuted": false,
    "source_hash": "1adb9db8",
    "execution_millis": 17,
    "execution_start": 1613347597006,
    "deepnote_cell_type": "code",
    "deepnote_cell_height": 702.375
   },
   "source": "astype_odim_df = {\n    'Número de registro': 'int64',\n    'linfonodo': 'int64',\n    'RE': 'bool',\n    'RP': 'bool',\n    'subtipo': 'category',\n    'pT': 'int64',\n    'grau': 'int64',\n    'idade': 'int64',\n    'BMI': 'float64',\n    'Pest': 'bool',\n    'strat': 'category',\n}\nodim_df = odim_df.astype(astype_odim_df)\nodim_df.info()",
   "execution_count": null,
   "outputs": [
    {
     "name": "stdout",
     "text": "<class 'pandas.core.frame.DataFrame'>\nInt64Index: 65 entries, 2 to 174\nData columns (total 11 columns):\n #   Column              Non-Null Count  Dtype   \n---  ------              --------------  -----   \n 0   Número de registro  65 non-null     int64   \n 1   linfonodo           65 non-null     int64   \n 2   RE                  65 non-null     bool    \n 3   RP                  65 non-null     bool    \n 4   subtipo             65 non-null     category\n 5   pT                  65 non-null     int64   \n 6   grau                65 non-null     int64   \n 7   idade               65 non-null     int64   \n 8   BMI                 65 non-null     float64 \n 9   Pest                65 non-null     bool    \n 10  strat               61 non-null     category\ndtypes: bool(3), category(2), float64(1), int64(5)\nmemory usage: 4.2 KB\n",
     "output_type": "stream"
    }
   ]
  },
  {
   "cell_type": "code",
   "metadata": {
    "tags": [],
    "cell_id": "00018-83081345-3d41-4900-875b-7bd0b3a41add",
    "deepnote_to_be_reexecuted": false,
    "source_hash": "41366c82",
    "execution_millis": 49,
    "execution_start": 1613347608443,
    "deepnote_cell_type": "code",
    "deepnote_cell_height": 268,
    "deepnote_output_heights": [
     176
    ]
   },
   "source": "odim_df.head()",
   "execution_count": null,
   "outputs": [
    {
     "output_type": "execute_result",
     "execution_count": 24,
     "data": {
      "application/vnd.deepnote.dataframe.v2+json": {
       "row_count": 5,
       "column_count": 11,
       "columns": [
        {
         "name": "Número de registro",
         "dtype": "int64",
         "stats": {
          "unique_count": 5,
          "nan_count": 0,
          "min": 40,
          "max": 325,
          "histogram": [
           {
            "bin_start": 40,
            "bin_end": 68.5,
            "count": 1
           },
           {
            "bin_start": 68.5,
            "bin_end": 97,
            "count": 0
           },
           {
            "bin_start": 97,
            "bin_end": 125.5,
            "count": 2
           },
           {
            "bin_start": 125.5,
            "bin_end": 154,
            "count": 0
           },
           {
            "bin_start": 154,
            "bin_end": 182.5,
            "count": 0
           },
           {
            "bin_start": 182.5,
            "bin_end": 211,
            "count": 0
           },
           {
            "bin_start": 211,
            "bin_end": 239.5,
            "count": 0
           },
           {
            "bin_start": 239.5,
            "bin_end": 268,
            "count": 0
           },
           {
            "bin_start": 268,
            "bin_end": 296.5,
            "count": 0
           },
           {
            "bin_start": 296.5,
            "bin_end": 325,
            "count": 2
           }
          ]
         }
        },
        {
         "name": "linfonodo",
         "dtype": "int64",
         "stats": {
          "unique_count": 3,
          "nan_count": 0,
          "min": 0,
          "max": 4,
          "histogram": [
           {
            "bin_start": 0,
            "bin_end": 0.4,
            "count": 3
           },
           {
            "bin_start": 0.4,
            "bin_end": 0.8,
            "count": 0
           },
           {
            "bin_start": 0.8,
            "bin_end": 1.2000000000000002,
            "count": 1
           },
           {
            "bin_start": 1.2000000000000002,
            "bin_end": 1.6,
            "count": 0
           },
           {
            "bin_start": 1.6,
            "bin_end": 2,
            "count": 0
           },
           {
            "bin_start": 2,
            "bin_end": 2.4000000000000004,
            "count": 0
           },
           {
            "bin_start": 2.4000000000000004,
            "bin_end": 2.8000000000000003,
            "count": 0
           },
           {
            "bin_start": 2.8000000000000003,
            "bin_end": 3.2,
            "count": 0
           },
           {
            "bin_start": 3.2,
            "bin_end": 3.6,
            "count": 0
           },
           {
            "bin_start": 3.6,
            "bin_end": 4,
            "count": 1
           }
          ]
         }
        },
        {
         "name": "RE",
         "dtype": "bool",
         "stats": {
          "unique_count": 2,
          "nan_count": 0,
          "categories": [
           {
            "name": "True",
            "count": 4
           },
           {
            "name": "False",
            "count": 1
           }
          ]
         }
        },
        {
         "name": "RP",
         "dtype": "bool",
         "stats": {
          "unique_count": 2,
          "nan_count": 0,
          "categories": [
           {
            "name": "True",
            "count": 3
           },
           {
            "name": "False",
            "count": 2
           }
          ]
         }
        },
        {
         "name": "subtipo",
         "dtype": "category",
         "stats": {
          "unique_count": 3,
          "nan_count": 0,
          "categories": [
           {
            "name": "luminal a",
            "count": 3
           },
           {
            "name": "luminal b",
            "count": 1
           },
           {
            "name": "her-2",
            "count": 1
           }
          ]
         }
        },
        {
         "name": "pT",
         "dtype": "int64",
         "stats": {
          "unique_count": 5,
          "nan_count": 0,
          "min": 4,
          "max": 60,
          "histogram": [
           {
            "bin_start": 4,
            "bin_end": 9.6,
            "count": 1
           },
           {
            "bin_start": 9.6,
            "bin_end": 15.2,
            "count": 1
           },
           {
            "bin_start": 15.2,
            "bin_end": 20.799999999999997,
            "count": 1
           },
           {
            "bin_start": 20.799999999999997,
            "bin_end": 26.4,
            "count": 0
           },
           {
            "bin_start": 26.4,
            "bin_end": 32,
            "count": 1
           },
           {
            "bin_start": 32,
            "bin_end": 37.599999999999994,
            "count": 0
           },
           {
            "bin_start": 37.599999999999994,
            "bin_end": 43.199999999999996,
            "count": 0
           },
           {
            "bin_start": 43.199999999999996,
            "bin_end": 48.8,
            "count": 0
           },
           {
            "bin_start": 48.8,
            "bin_end": 54.4,
            "count": 0
           },
           {
            "bin_start": 54.4,
            "bin_end": 60,
            "count": 1
           }
          ]
         }
        },
        {
         "name": "grau",
         "dtype": "int64",
         "stats": {
          "unique_count": 3,
          "nan_count": 0,
          "min": 1,
          "max": 3,
          "histogram": [
           {
            "bin_start": 1,
            "bin_end": 1.2,
            "count": 2
           },
           {
            "bin_start": 1.2,
            "bin_end": 1.4,
            "count": 0
           },
           {
            "bin_start": 1.4,
            "bin_end": 1.6,
            "count": 0
           },
           {
            "bin_start": 1.6,
            "bin_end": 1.8,
            "count": 0
           },
           {
            "bin_start": 1.8,
            "bin_end": 2,
            "count": 0
           },
           {
            "bin_start": 2,
            "bin_end": 2.2,
            "count": 2
           },
           {
            "bin_start": 2.2,
            "bin_end": 2.4000000000000004,
            "count": 0
           },
           {
            "bin_start": 2.4000000000000004,
            "bin_end": 2.6,
            "count": 0
           },
           {
            "bin_start": 2.6,
            "bin_end": 2.8,
            "count": 0
           },
           {
            "bin_start": 2.8,
            "bin_end": 3,
            "count": 1
           }
          ]
         }
        },
        {
         "name": "idade",
         "dtype": "int64",
         "stats": {
          "unique_count": 5,
          "nan_count": 0,
          "min": 54,
          "max": 86,
          "histogram": [
           {
            "bin_start": 54,
            "bin_end": 57.2,
            "count": 1
           },
           {
            "bin_start": 57.2,
            "bin_end": 60.4,
            "count": 1
           },
           {
            "bin_start": 60.4,
            "bin_end": 63.6,
            "count": 1
           },
           {
            "bin_start": 63.6,
            "bin_end": 66.8,
            "count": 0
           },
           {
            "bin_start": 66.8,
            "bin_end": 70,
            "count": 0
           },
           {
            "bin_start": 70,
            "bin_end": 73.2,
            "count": 1
           },
           {
            "bin_start": 73.2,
            "bin_end": 76.4,
            "count": 0
           },
           {
            "bin_start": 76.4,
            "bin_end": 79.6,
            "count": 0
           },
           {
            "bin_start": 79.6,
            "bin_end": 82.8,
            "count": 0
           },
           {
            "bin_start": 82.8,
            "bin_end": 86,
            "count": 1
           }
          ]
         }
        },
        {
         "name": "BMI",
         "dtype": "float64",
         "stats": {
          "unique_count": 5,
          "nan_count": 0,
          "min": 22.27,
          "max": 39.96,
          "histogram": [
           {
            "bin_start": 22.27,
            "bin_end": 24.039,
            "count": 1
           },
           {
            "bin_start": 24.039,
            "bin_end": 25.808,
            "count": 1
           },
           {
            "bin_start": 25.808,
            "bin_end": 27.576999999999998,
            "count": 1
           },
           {
            "bin_start": 27.576999999999998,
            "bin_end": 29.346,
            "count": 0
           },
           {
            "bin_start": 29.346,
            "bin_end": 31.115000000000002,
            "count": 0
           },
           {
            "bin_start": 31.115000000000002,
            "bin_end": 32.884,
            "count": 0
           },
           {
            "bin_start": 32.884,
            "bin_end": 34.653,
            "count": 1
           },
           {
            "bin_start": 34.653,
            "bin_end": 36.422,
            "count": 0
           },
           {
            "bin_start": 36.422,
            "bin_end": 38.191,
            "count": 0
           },
           {
            "bin_start": 38.191,
            "bin_end": 39.96,
            "count": 1
           }
          ]
         }
        },
        {
         "name": "Pest",
         "dtype": "bool",
         "stats": {
          "unique_count": 1,
          "nan_count": 0,
          "categories": [
           {
            "name": "True",
            "count": 5
           }
          ]
         }
        },
        {
         "name": "strat",
         "dtype": "category",
         "stats": {
          "unique_count": 3,
          "nan_count": 0,
          "categories": [
           {
            "name": "Intermediate",
            "count": 2
           },
           {
            "name": "Low",
            "count": 2
           },
           {
            "name": "High",
            "count": 1
           }
          ]
         }
        },
        {
         "name": "_deepnote_index_column",
         "dtype": "int64"
        }
       ],
       "rows_top": [
        {
         "Número de registro": 40,
         "linfonodo": 4,
         "RE": true,
         "RP": false,
         "subtipo": "luminal b",
         "pT": 60,
         "grau": 3,
         "idade": 63,
         "BMI": 27.55,
         "Pest": true,
         "strat": "Intermediate",
         "_deepnote_index_column": 2
        },
        {
         "Número de registro": 106,
         "linfonodo": 0,
         "RE": true,
         "RP": true,
         "subtipo": "luminal a",
         "pT": 4,
         "grau": 1,
         "idade": 54,
         "BMI": 24.24,
         "Pest": true,
         "strat": "Low",
         "_deepnote_index_column": 3
        },
        {
         "Número de registro": 119,
         "linfonodo": 1,
         "RE": false,
         "RP": false,
         "subtipo": "her-2",
         "pT": 30,
         "grau": 2,
         "idade": 86,
         "BMI": 34.14,
         "Pest": true,
         "strat": "High",
         "_deepnote_index_column": 4
        },
        {
         "Número de registro": 318,
         "linfonodo": 0,
         "RE": true,
         "RP": true,
         "subtipo": "luminal a",
         "pT": 20,
         "grau": 1,
         "idade": 72,
         "BMI": 22.27,
         "Pest": true,
         "strat": "Low",
         "_deepnote_index_column": 6
        },
        {
         "Número de registro": 325,
         "linfonodo": 0,
         "RE": true,
         "RP": true,
         "subtipo": "luminal a",
         "pT": 10,
         "grau": 2,
         "idade": 60,
         "BMI": 39.96,
         "Pest": true,
         "strat": "Intermediate",
         "_deepnote_index_column": 9
        }
       ],
       "rows_bottom": null
      },
      "text/plain": "   Número de registro  linfonodo     RE     RP    subtipo  pT  grau  idade  \\\n2                  40          4   True  False  luminal b  60     3     63   \n3                 106          0   True   True  luminal a   4     1     54   \n4                 119          1  False  False      her-2  30     2     86   \n6                 318          0   True   True  luminal a  20     1     72   \n9                 325          0   True   True  luminal a  10     2     60   \n\n     BMI  Pest         strat  \n2  27.55  True  Intermediate  \n3  24.24  True           Low  \n4  34.14  True          High  \n6  22.27  True           Low  \n9  39.96  True  Intermediate  ",
      "text/html": "<div>\n<style scoped>\n    .dataframe tbody tr th:only-of-type {\n        vertical-align: middle;\n    }\n\n    .dataframe tbody tr th {\n        vertical-align: top;\n    }\n\n    .dataframe thead th {\n        text-align: right;\n    }\n</style>\n<table border=\"1\" class=\"dataframe\">\n  <thead>\n    <tr style=\"text-align: right;\">\n      <th></th>\n      <th>Número de registro</th>\n      <th>linfonodo</th>\n      <th>RE</th>\n      <th>RP</th>\n      <th>subtipo</th>\n      <th>pT</th>\n      <th>grau</th>\n      <th>idade</th>\n      <th>BMI</th>\n      <th>Pest</th>\n      <th>strat</th>\n    </tr>\n  </thead>\n  <tbody>\n    <tr>\n      <th>2</th>\n      <td>40</td>\n      <td>4</td>\n      <td>True</td>\n      <td>False</td>\n      <td>luminal b</td>\n      <td>60</td>\n      <td>3</td>\n      <td>63</td>\n      <td>27.55</td>\n      <td>True</td>\n      <td>Intermediate</td>\n    </tr>\n    <tr>\n      <th>3</th>\n      <td>106</td>\n      <td>0</td>\n      <td>True</td>\n      <td>True</td>\n      <td>luminal a</td>\n      <td>4</td>\n      <td>1</td>\n      <td>54</td>\n      <td>24.24</td>\n      <td>True</td>\n      <td>Low</td>\n    </tr>\n    <tr>\n      <th>4</th>\n      <td>119</td>\n      <td>1</td>\n      <td>False</td>\n      <td>False</td>\n      <td>her-2</td>\n      <td>30</td>\n      <td>2</td>\n      <td>86</td>\n      <td>34.14</td>\n      <td>True</td>\n      <td>High</td>\n    </tr>\n    <tr>\n      <th>6</th>\n      <td>318</td>\n      <td>0</td>\n      <td>True</td>\n      <td>True</td>\n      <td>luminal a</td>\n      <td>20</td>\n      <td>1</td>\n      <td>72</td>\n      <td>22.27</td>\n      <td>True</td>\n      <td>Low</td>\n    </tr>\n    <tr>\n      <th>9</th>\n      <td>325</td>\n      <td>0</td>\n      <td>True</td>\n      <td>True</td>\n      <td>luminal a</td>\n      <td>10</td>\n      <td>2</td>\n      <td>60</td>\n      <td>39.96</td>\n      <td>True</td>\n      <td>Intermediate</td>\n    </tr>\n  </tbody>\n</table>\n</div>"
     },
     "metadata": {}
    }
   ]
  },
  {
   "cell_type": "code",
   "metadata": {
    "tags": [],
    "cell_id": "00023-e36825d7-bcce-4e68-a9b5-828aa5c9f481",
    "deepnote_to_be_reexecuted": false,
    "source_hash": "f3cdb4db",
    "execution_millis": 3,
    "execution_start": 1613347880347,
    "deepnote_cell_type": "code",
    "deepnote_cell_height": 76
   },
   "source": "import joblib",
   "execution_count": null,
   "outputs": []
  },
  {
   "cell_type": "code",
   "metadata": {
    "tags": [],
    "cell_id": "00024-2e32ab44-819c-45eb-ae01-4e3199335d90",
    "deepnote_to_be_reexecuted": false,
    "source_hash": "e1a97de1",
    "execution_millis": 5,
    "execution_start": 1613347876298,
    "deepnote_cell_type": "code",
    "deepnote_cell_height": 112.1875,
    "deepnote_output_heights": [
     20.1875
    ]
   },
   "source": "joblib.dump(odim_df, 'ODIM-Estrut.gz')",
   "execution_count": null,
   "outputs": [
    {
     "output_type": "execute_result",
     "execution_count": 28,
     "data": {
      "text/plain": "['ODIM-Estrut.gz']"
     },
     "metadata": {}
    }
   ]
  },
  {
   "cell_type": "markdown",
   "source": "<a style='text-decoration:none;line-height:16px;display:flex;color:#5B5B62;padding:10px;justify-content:end;' href='https://deepnote.com?utm_source=created-in-deepnote-cell&projectId=7c500a06-cda2-4c9a-a469-97e5ec913c42' target=\"_blank\">\n<img alt='Created in deepnote.com' style='display:inline;max-height:16px;margin:0px;margin-right:7.5px;' src='data:image/svg+xml;base64,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' > </img>\nCreated in <span style='font-weight:600;margin-left:4px;'>Deepnote</span></a>",
   "metadata": {
    "tags": [],
    "created_in_deepnote_cell": true,
    "deepnote_cell_type": "markdown"
   }
  }
 ],
 "nbformat": 4,
 "nbformat_minor": 2,
 "metadata": {
  "orig_nbformat": 2,
  "deepnote_notebook_id": "b760ba10-ed75-433f-a50a-54625e537cc0",
  "deepnote_execution_queue": [],
  "deepnote": {}
 }
}