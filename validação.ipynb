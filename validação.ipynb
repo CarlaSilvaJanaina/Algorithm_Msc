{
 "cells": [
  {
   "cell_type": "code",
   "metadata": {
    "tags": [],
    "cell_id": "00000-d515c481-22dd-4e3f-90e9-4c2e147ca68e",
    "deepnote_to_be_reexecuted": false,
    "source_hash": "e54b54b8",
    "execution_millis": 14,
    "execution_start": 1614027072030,
    "deepnote_cell_type": "code",
    "deepnote_cell_height": 94
   },
   "source": "import pandas as pd\nimport joblib",
   "execution_count": null,
   "outputs": []
  },
  {
   "cell_type": "code",
   "metadata": {
    "tags": [],
    "cell_id": "00001-959174e3-2ce1-4cda-bad0-fb8144685e3e",
    "deepnote_to_be_reexecuted": false,
    "source_hash": "3b36ebae",
    "execution_millis": 29,
    "execution_start": 1614027072048,
    "deepnote_cell_type": "code",
    "deepnote_cell_height": 486.375
   },
   "source": "# Importação da DataFrame ODIM estruturada\nodim_df = joblib.load('ODIM-Estrut.gz')\nodim_df.info()",
   "execution_count": null,
   "outputs": [
    {
     "name": "stdout",
     "text": "<class 'pandas.core.frame.DataFrame'>\nInt64Index: 65 entries, 2 to 174\nData columns (total 11 columns):\n #   Column              Non-Null Count  Dtype   \n---  ------              --------------  -----   \n 0   Número de registro  65 non-null     int64   \n 1   linfonodo           65 non-null     int64   \n 2   RE                  65 non-null     bool    \n 3   RP                  65 non-null     bool    \n 4   subtipo             65 non-null     category\n 5   pT                  65 non-null     int64   \n 6   grau                65 non-null     int64   \n 7   idade               65 non-null     int64   \n 8   BMI                 65 non-null     float64 \n 9   Pest                65 non-null     bool    \n 10  strat               61 non-null     category\ndtypes: bool(3), category(2), float64(1), int64(5)\nmemory usage: 3.9 KB\n",
     "output_type": "stream"
    }
   ]
  },
  {
   "cell_type": "code",
   "metadata": {
    "tags": [],
    "cell_id": "00002-a357b5c8-3afa-4183-afd6-5a99d88306d6",
    "deepnote_to_be_reexecuted": false,
    "source_hash": "f2e70467",
    "execution_millis": 46,
    "execution_start": 1614027072080,
    "deepnote_cell_type": "code",
    "deepnote_cell_height": 355,
    "deepnote_output_heights": [
     263
    ]
   },
   "source": "odim_df.describe()",
   "execution_count": null,
   "outputs": [
    {
     "output_type": "execute_result",
     "execution_count": 21,
     "data": {
      "application/vnd.deepnote.dataframe.v2+json": {
       "row_count": 8,
       "column_count": 6,
       "columns": [
        {
         "name": "Número de registro",
         "dtype": "float64",
         "stats": {
          "unique_count": 8,
          "nan_count": 0,
          "min": 40,
          "max": 606,
          "histogram": [
           {
            "bin_start": 40,
            "bin_end": 96.6,
            "count": 2
           },
           {
            "bin_start": 96.6,
            "bin_end": 153.2,
            "count": 1
           },
           {
            "bin_start": 153.2,
            "bin_end": 209.8,
            "count": 0
           },
           {
            "bin_start": 209.8,
            "bin_end": 266.4,
            "count": 0
           },
           {
            "bin_start": 266.4,
            "bin_end": 323,
            "count": 0
           },
           {
            "bin_start": 323,
            "bin_end": 379.6,
            "count": 1
           },
           {
            "bin_start": 379.6,
            "bin_end": 436.2,
            "count": 0
           },
           {
            "bin_start": 436.2,
            "bin_end": 492.8,
            "count": 2
           },
           {
            "bin_start": 492.8,
            "bin_end": 549.4000000000001,
            "count": 0
           },
           {
            "bin_start": 549.4000000000001,
            "bin_end": 606,
            "count": 2
           }
          ]
         }
        },
        {
         "name": "linfonodo",
         "dtype": "float64",
         "stats": {
          "unique_count": 6,
          "nan_count": 0,
          "min": 0,
          "max": 65,
          "histogram": [
           {
            "bin_start": 0,
            "bin_end": 6.5,
            "count": 7
           },
           {
            "bin_start": 6.5,
            "bin_end": 13,
            "count": 0
           },
           {
            "bin_start": 13,
            "bin_end": 19.5,
            "count": 0
           },
           {
            "bin_start": 19.5,
            "bin_end": 26,
            "count": 0
           },
           {
            "bin_start": 26,
            "bin_end": 32.5,
            "count": 0
           },
           {
            "bin_start": 32.5,
            "bin_end": 39,
            "count": 0
           },
           {
            "bin_start": 39,
            "bin_end": 45.5,
            "count": 0
           },
           {
            "bin_start": 45.5,
            "bin_end": 52,
            "count": 0
           },
           {
            "bin_start": 52,
            "bin_end": 58.5,
            "count": 0
           },
           {
            "bin_start": 58.5,
            "bin_end": 65,
            "count": 1
           }
          ]
         }
        },
        {
         "name": "pT",
         "dtype": "float64",
         "stats": {
          "unique_count": 8,
          "nan_count": 0,
          "min": 0,
          "max": 170,
          "histogram": [
           {
            "bin_start": 0,
            "bin_end": 17,
            "count": 2
           },
           {
            "bin_start": 17,
            "bin_end": 34,
            "count": 3
           },
           {
            "bin_start": 34,
            "bin_end": 51,
            "count": 1
           },
           {
            "bin_start": 51,
            "bin_end": 68,
            "count": 1
           },
           {
            "bin_start": 68,
            "bin_end": 85,
            "count": 0
           },
           {
            "bin_start": 85,
            "bin_end": 102,
            "count": 0
           },
           {
            "bin_start": 102,
            "bin_end": 119,
            "count": 0
           },
           {
            "bin_start": 119,
            "bin_end": 136,
            "count": 0
           },
           {
            "bin_start": 136,
            "bin_end": 153,
            "count": 0
           },
           {
            "bin_start": 153,
            "bin_end": 170,
            "count": 1
           }
          ]
         }
        },
        {
         "name": "grau",
         "dtype": "float64",
         "stats": {
          "unique_count": 6,
          "nan_count": 0,
          "min": 0.768364897288141,
          "max": 65,
          "histogram": [
           {
            "bin_start": 0.768364897288141,
            "bin_end": 7.191528407559327,
            "count": 7
           },
           {
            "bin_start": 7.191528407559327,
            "bin_end": 13.614691917830513,
            "count": 0
           },
           {
            "bin_start": 13.614691917830513,
            "bin_end": 20.037855428101697,
            "count": 0
           },
           {
            "bin_start": 20.037855428101697,
            "bin_end": 26.461018938372884,
            "count": 0
           },
           {
            "bin_start": 26.461018938372884,
            "bin_end": 32.884182448644076,
            "count": 0
           },
           {
            "bin_start": 32.884182448644076,
            "bin_end": 39.307345958915256,
            "count": 0
           },
           {
            "bin_start": 39.307345958915256,
            "bin_end": 45.730509469186444,
            "count": 0
           },
           {
            "bin_start": 45.730509469186444,
            "bin_end": 52.15367297945763,
            "count": 0
           },
           {
            "bin_start": 52.15367297945763,
            "bin_end": 58.57683648972882,
            "count": 0
           },
           {
            "bin_start": 58.57683648972882,
            "bin_end": 65,
            "count": 1
           }
          ]
         }
        },
        {
         "name": "idade",
         "dtype": "float64",
         "stats": {
          "unique_count": 8,
          "nan_count": 0,
          "min": 14.605830632372076,
          "max": 96,
          "histogram": [
           {
            "bin_start": 14.605830632372076,
            "bin_end": 22.745247569134868,
            "count": 1
           },
           {
            "bin_start": 22.745247569134868,
            "bin_end": 30.88466450589766,
            "count": 1
           },
           {
            "bin_start": 30.88466450589766,
            "bin_end": 39.02408144266045,
            "count": 0
           },
           {
            "bin_start": 39.02408144266045,
            "bin_end": 47.163498379423245,
            "count": 1
           },
           {
            "bin_start": 47.163498379423245,
            "bin_end": 55.30291531618604,
            "count": 0
           },
           {
            "bin_start": 55.30291531618604,
            "bin_end": 63.44233225294883,
            "count": 2
           },
           {
            "bin_start": 63.44233225294883,
            "bin_end": 71.58174918971162,
            "count": 2
           },
           {
            "bin_start": 71.58174918971162,
            "bin_end": 79.72116612647442,
            "count": 0
           },
           {
            "bin_start": 79.72116612647442,
            "bin_end": 87.8605830632372,
            "count": 0
           },
           {
            "bin_start": 87.8605830632372,
            "bin_end": 96,
            "count": 1
           }
          ]
         }
        },
        {
         "name": "BMI",
         "dtype": "float64",
         "stats": {
          "unique_count": 8,
          "nan_count": 0,
          "min": 4.278814788507105,
          "max": 65,
          "histogram": [
           {
            "bin_start": 4.278814788507105,
            "bin_end": 10.350933309656394,
            "count": 1
           },
           {
            "bin_start": 10.350933309656394,
            "bin_end": 16.423051830805683,
            "count": 0
           },
           {
            "bin_start": 16.423051830805683,
            "bin_end": 22.495170351954975,
            "count": 1
           },
           {
            "bin_start": 22.495170351954975,
            "bin_end": 28.567288873104264,
            "count": 4
           },
           {
            "bin_start": 28.567288873104264,
            "bin_end": 34.63940739425355,
            "count": 0
           },
           {
            "bin_start": 34.63940739425355,
            "bin_end": 40.711525915402845,
            "count": 0
           },
           {
            "bin_start": 40.711525915402845,
            "bin_end": 46.78364443655213,
            "count": 1
           },
           {
            "bin_start": 46.78364443655213,
            "bin_end": 52.85576295770142,
            "count": 0
           },
           {
            "bin_start": 52.85576295770142,
            "bin_end": 58.927881478850715,
            "count": 0
           },
           {
            "bin_start": 58.927881478850715,
            "bin_end": 65,
            "count": 1
           }
          ]
         }
        },
        {
         "name": "_deepnote_index_column",
         "dtype": "object"
        }
       ],
       "rows_top": [
        {
         "Número de registro": 65,
         "linfonodo": 65,
         "pT": 65,
         "grau": 65,
         "idade": 65,
         "BMI": 65,
         "_deepnote_index_column": "count"
        },
        {
         "Número de registro": 453.9384615384615,
         "linfonodo": 0.5076923076923077,
         "pT": 31.276923076923076,
         "grau": 1.8153846153846154,
         "idade": 57.16923076923077,
         "BMI": 26.68909030100335,
         "_deepnote_index_column": "mean"
        },
        {
         "Número de registro": 124.34087181553036,
         "linfonodo": 1.0914880456725824,
         "pT": 27.45878029673961,
         "grau": 0.768364897288141,
         "idade": 14.605830632372076,
         "BMI": 4.278814788507105,
         "_deepnote_index_column": "std"
        },
        {
         "Número de registro": 40,
         "linfonodo": 0,
         "pT": 0,
         "grau": 1,
         "idade": 30,
         "BMI": 18.36,
         "_deepnote_index_column": "min"
        },
        {
         "Número de registro": 360,
         "linfonodo": 0,
         "pT": 15,
         "grau": 1,
         "idade": 45,
         "BMI": 24.78,
         "_deepnote_index_column": "25%"
        },
        {
         "Número de registro": 484,
         "linfonodo": 0,
         "pT": 25,
         "grau": 2,
         "idade": 57,
         "BMI": 26.723043478260873,
         "_deepnote_index_column": "50%"
        },
        {
         "Número de registro": 552,
         "linfonodo": 1,
         "pT": 40,
         "grau": 2,
         "idade": 67,
         "BMI": 27.55,
         "_deepnote_index_column": "75%"
        },
        {
         "Número de registro": 606,
         "linfonodo": 4,
         "pT": 170,
         "grau": 3,
         "idade": 96,
         "BMI": 43.06,
         "_deepnote_index_column": "max"
        }
       ],
       "rows_bottom": null
      },
      "text/plain": "       Número de registro  linfonodo          pT       grau      idade  \\\ncount           65.000000  65.000000   65.000000  65.000000  65.000000   \nmean           453.938462   0.507692   31.276923   1.815385  57.169231   \nstd            124.340872   1.091488   27.458780   0.768365  14.605831   \nmin             40.000000   0.000000    0.000000   1.000000  30.000000   \n25%            360.000000   0.000000   15.000000   1.000000  45.000000   \n50%            484.000000   0.000000   25.000000   2.000000  57.000000   \n75%            552.000000   1.000000   40.000000   2.000000  67.000000   \nmax            606.000000   4.000000  170.000000   3.000000  96.000000   \n\n             BMI  \ncount  65.000000  \nmean   26.689090  \nstd     4.278815  \nmin    18.360000  \n25%    24.780000  \n50%    26.723043  \n75%    27.550000  \nmax    43.060000  ",
      "text/html": "<div>\n<style scoped>\n    .dataframe tbody tr th:only-of-type {\n        vertical-align: middle;\n    }\n\n    .dataframe tbody tr th {\n        vertical-align: top;\n    }\n\n    .dataframe thead th {\n        text-align: right;\n    }\n</style>\n<table border=\"1\" class=\"dataframe\">\n  <thead>\n    <tr style=\"text-align: right;\">\n      <th></th>\n      <th>Número de registro</th>\n      <th>linfonodo</th>\n      <th>pT</th>\n      <th>grau</th>\n      <th>idade</th>\n      <th>BMI</th>\n    </tr>\n  </thead>\n  <tbody>\n    <tr>\n      <th>count</th>\n      <td>65.000000</td>\n      <td>65.000000</td>\n      <td>65.000000</td>\n      <td>65.000000</td>\n      <td>65.000000</td>\n      <td>65.000000</td>\n    </tr>\n    <tr>\n      <th>mean</th>\n      <td>453.938462</td>\n      <td>0.507692</td>\n      <td>31.276923</td>\n      <td>1.815385</td>\n      <td>57.169231</td>\n      <td>26.689090</td>\n    </tr>\n    <tr>\n      <th>std</th>\n      <td>124.340872</td>\n      <td>1.091488</td>\n      <td>27.458780</td>\n      <td>0.768365</td>\n      <td>14.605831</td>\n      <td>4.278815</td>\n    </tr>\n    <tr>\n      <th>min</th>\n      <td>40.000000</td>\n      <td>0.000000</td>\n      <td>0.000000</td>\n      <td>1.000000</td>\n      <td>30.000000</td>\n      <td>18.360000</td>\n    </tr>\n    <tr>\n      <th>25%</th>\n      <td>360.000000</td>\n      <td>0.000000</td>\n      <td>15.000000</td>\n      <td>1.000000</td>\n      <td>45.000000</td>\n      <td>24.780000</td>\n    </tr>\n    <tr>\n      <th>50%</th>\n      <td>484.000000</td>\n      <td>0.000000</td>\n      <td>25.000000</td>\n      <td>2.000000</td>\n      <td>57.000000</td>\n      <td>26.723043</td>\n    </tr>\n    <tr>\n      <th>75%</th>\n      <td>552.000000</td>\n      <td>1.000000</td>\n      <td>40.000000</td>\n      <td>2.000000</td>\n      <td>67.000000</td>\n      <td>27.550000</td>\n    </tr>\n    <tr>\n      <th>max</th>\n      <td>606.000000</td>\n      <td>4.000000</td>\n      <td>170.000000</td>\n      <td>3.000000</td>\n      <td>96.000000</td>\n      <td>43.060000</td>\n    </tr>\n  </tbody>\n</table>\n</div>"
     },
     "metadata": {}
    }
   ]
  },
  {
   "cell_type": "code",
   "metadata": {
    "tags": [],
    "cell_id": "00003-99d09df3-c73f-4288-9330-a2693a36071a",
    "deepnote_to_be_reexecuted": false,
    "source_hash": "41366c82",
    "execution_millis": 32,
    "execution_start": 1614027072139,
    "deepnote_cell_type": "code",
    "deepnote_cell_height": 268,
    "deepnote_output_heights": [
     176
    ]
   },
   "source": "odim_df.head()",
   "execution_count": null,
   "outputs": [
    {
     "output_type": "execute_result",
     "execution_count": 22,
     "data": {
      "application/vnd.deepnote.dataframe.v2+json": {
       "row_count": 5,
       "column_count": 11,
       "columns": [
        {
         "name": "Número de registro",
         "dtype": "int64",
         "stats": {
          "unique_count": 5,
          "nan_count": 0,
          "min": 40,
          "max": 325,
          "histogram": [
           {
            "bin_start": 40,
            "bin_end": 68.5,
            "count": 1
           },
           {
            "bin_start": 68.5,
            "bin_end": 97,
            "count": 0
           },
           {
            "bin_start": 97,
            "bin_end": 125.5,
            "count": 2
           },
           {
            "bin_start": 125.5,
            "bin_end": 154,
            "count": 0
           },
           {
            "bin_start": 154,
            "bin_end": 182.5,
            "count": 0
           },
           {
            "bin_start": 182.5,
            "bin_end": 211,
            "count": 0
           },
           {
            "bin_start": 211,
            "bin_end": 239.5,
            "count": 0
           },
           {
            "bin_start": 239.5,
            "bin_end": 268,
            "count": 0
           },
           {
            "bin_start": 268,
            "bin_end": 296.5,
            "count": 0
           },
           {
            "bin_start": 296.5,
            "bin_end": 325,
            "count": 2
           }
          ]
         }
        },
        {
         "name": "linfonodo",
         "dtype": "int64",
         "stats": {
          "unique_count": 3,
          "nan_count": 0,
          "min": 0,
          "max": 4,
          "histogram": [
           {
            "bin_start": 0,
            "bin_end": 0.4,
            "count": 3
           },
           {
            "bin_start": 0.4,
            "bin_end": 0.8,
            "count": 0
           },
           {
            "bin_start": 0.8,
            "bin_end": 1.2000000000000002,
            "count": 1
           },
           {
            "bin_start": 1.2000000000000002,
            "bin_end": 1.6,
            "count": 0
           },
           {
            "bin_start": 1.6,
            "bin_end": 2,
            "count": 0
           },
           {
            "bin_start": 2,
            "bin_end": 2.4000000000000004,
            "count": 0
           },
           {
            "bin_start": 2.4000000000000004,
            "bin_end": 2.8000000000000003,
            "count": 0
           },
           {
            "bin_start": 2.8000000000000003,
            "bin_end": 3.2,
            "count": 0
           },
           {
            "bin_start": 3.2,
            "bin_end": 3.6,
            "count": 0
           },
           {
            "bin_start": 3.6,
            "bin_end": 4,
            "count": 1
           }
          ]
         }
        },
        {
         "name": "RE",
         "dtype": "bool",
         "stats": {
          "unique_count": 2,
          "nan_count": 0,
          "categories": [
           {
            "name": "True",
            "count": 4
           },
           {
            "name": "False",
            "count": 1
           }
          ]
         }
        },
        {
         "name": "RP",
         "dtype": "bool",
         "stats": {
          "unique_count": 2,
          "nan_count": 0,
          "categories": [
           {
            "name": "True",
            "count": 3
           },
           {
            "name": "False",
            "count": 2
           }
          ]
         }
        },
        {
         "name": "subtipo",
         "dtype": "category",
         "stats": {
          "unique_count": 3,
          "nan_count": 0,
          "categories": [
           {
            "name": "luminal a",
            "count": 3
           },
           {
            "name": "luminal b",
            "count": 1
           },
           {
            "name": "her-2",
            "count": 1
           }
          ]
         }
        },
        {
         "name": "pT",
         "dtype": "int64",
         "stats": {
          "unique_count": 5,
          "nan_count": 0,
          "min": 4,
          "max": 60,
          "histogram": [
           {
            "bin_start": 4,
            "bin_end": 9.6,
            "count": 1
           },
           {
            "bin_start": 9.6,
            "bin_end": 15.2,
            "count": 1
           },
           {
            "bin_start": 15.2,
            "bin_end": 20.799999999999997,
            "count": 1
           },
           {
            "bin_start": 20.799999999999997,
            "bin_end": 26.4,
            "count": 0
           },
           {
            "bin_start": 26.4,
            "bin_end": 32,
            "count": 1
           },
           {
            "bin_start": 32,
            "bin_end": 37.599999999999994,
            "count": 0
           },
           {
            "bin_start": 37.599999999999994,
            "bin_end": 43.199999999999996,
            "count": 0
           },
           {
            "bin_start": 43.199999999999996,
            "bin_end": 48.8,
            "count": 0
           },
           {
            "bin_start": 48.8,
            "bin_end": 54.4,
            "count": 0
           },
           {
            "bin_start": 54.4,
            "bin_end": 60,
            "count": 1
           }
          ]
         }
        },
        {
         "name": "grau",
         "dtype": "int64",
         "stats": {
          "unique_count": 3,
          "nan_count": 0,
          "min": 1,
          "max": 3,
          "histogram": [
           {
            "bin_start": 1,
            "bin_end": 1.2,
            "count": 2
           },
           {
            "bin_start": 1.2,
            "bin_end": 1.4,
            "count": 0
           },
           {
            "bin_start": 1.4,
            "bin_end": 1.6,
            "count": 0
           },
           {
            "bin_start": 1.6,
            "bin_end": 1.8,
            "count": 0
           },
           {
            "bin_start": 1.8,
            "bin_end": 2,
            "count": 0
           },
           {
            "bin_start": 2,
            "bin_end": 2.2,
            "count": 2
           },
           {
            "bin_start": 2.2,
            "bin_end": 2.4000000000000004,
            "count": 0
           },
           {
            "bin_start": 2.4000000000000004,
            "bin_end": 2.6,
            "count": 0
           },
           {
            "bin_start": 2.6,
            "bin_end": 2.8,
            "count": 0
           },
           {
            "bin_start": 2.8,
            "bin_end": 3,
            "count": 1
           }
          ]
         }
        },
        {
         "name": "idade",
         "dtype": "int64",
         "stats": {
          "unique_count": 5,
          "nan_count": 0,
          "min": 54,
          "max": 86,
          "histogram": [
           {
            "bin_start": 54,
            "bin_end": 57.2,
            "count": 1
           },
           {
            "bin_start": 57.2,
            "bin_end": 60.4,
            "count": 1
           },
           {
            "bin_start": 60.4,
            "bin_end": 63.6,
            "count": 1
           },
           {
            "bin_start": 63.6,
            "bin_end": 66.8,
            "count": 0
           },
           {
            "bin_start": 66.8,
            "bin_end": 70,
            "count": 0
           },
           {
            "bin_start": 70,
            "bin_end": 73.2,
            "count": 1
           },
           {
            "bin_start": 73.2,
            "bin_end": 76.4,
            "count": 0
           },
           {
            "bin_start": 76.4,
            "bin_end": 79.6,
            "count": 0
           },
           {
            "bin_start": 79.6,
            "bin_end": 82.8,
            "count": 0
           },
           {
            "bin_start": 82.8,
            "bin_end": 86,
            "count": 1
           }
          ]
         }
        },
        {
         "name": "BMI",
         "dtype": "float64",
         "stats": {
          "unique_count": 5,
          "nan_count": 0,
          "min": 22.27,
          "max": 39.96,
          "histogram": [
           {
            "bin_start": 22.27,
            "bin_end": 24.039,
            "count": 1
           },
           {
            "bin_start": 24.039,
            "bin_end": 25.808,
            "count": 1
           },
           {
            "bin_start": 25.808,
            "bin_end": 27.576999999999998,
            "count": 1
           },
           {
            "bin_start": 27.576999999999998,
            "bin_end": 29.346,
            "count": 0
           },
           {
            "bin_start": 29.346,
            "bin_end": 31.115000000000002,
            "count": 0
           },
           {
            "bin_start": 31.115000000000002,
            "bin_end": 32.884,
            "count": 0
           },
           {
            "bin_start": 32.884,
            "bin_end": 34.653,
            "count": 1
           },
           {
            "bin_start": 34.653,
            "bin_end": 36.422,
            "count": 0
           },
           {
            "bin_start": 36.422,
            "bin_end": 38.191,
            "count": 0
           },
           {
            "bin_start": 38.191,
            "bin_end": 39.96,
            "count": 1
           }
          ]
         }
        },
        {
         "name": "Pest",
         "dtype": "bool",
         "stats": {
          "unique_count": 1,
          "nan_count": 0,
          "categories": [
           {
            "name": "True",
            "count": 5
           }
          ]
         }
        },
        {
         "name": "strat",
         "dtype": "category",
         "stats": {
          "unique_count": 3,
          "nan_count": 0,
          "categories": [
           {
            "name": "Intermediate",
            "count": 2
           },
           {
            "name": "Low",
            "count": 2
           },
           {
            "name": "High",
            "count": 1
           }
          ]
         }
        },
        {
         "name": "_deepnote_index_column",
         "dtype": "int64"
        }
       ],
       "rows_top": [
        {
         "Número de registro": 40,
         "linfonodo": 4,
         "RE": true,
         "RP": false,
         "subtipo": "luminal b",
         "pT": 60,
         "grau": 3,
         "idade": 63,
         "BMI": 27.55,
         "Pest": true,
         "strat": "Intermediate",
         "_deepnote_index_column": 2
        },
        {
         "Número de registro": 106,
         "linfonodo": 0,
         "RE": true,
         "RP": true,
         "subtipo": "luminal a",
         "pT": 4,
         "grau": 1,
         "idade": 54,
         "BMI": 24.24,
         "Pest": true,
         "strat": "Low",
         "_deepnote_index_column": 3
        },
        {
         "Número de registro": 119,
         "linfonodo": 1,
         "RE": false,
         "RP": false,
         "subtipo": "her-2",
         "pT": 30,
         "grau": 2,
         "idade": 86,
         "BMI": 34.14,
         "Pest": true,
         "strat": "High",
         "_deepnote_index_column": 4
        },
        {
         "Número de registro": 318,
         "linfonodo": 0,
         "RE": true,
         "RP": true,
         "subtipo": "luminal a",
         "pT": 20,
         "grau": 1,
         "idade": 72,
         "BMI": 22.27,
         "Pest": true,
         "strat": "Low",
         "_deepnote_index_column": 6
        },
        {
         "Número de registro": 325,
         "linfonodo": 0,
         "RE": true,
         "RP": true,
         "subtipo": "luminal a",
         "pT": 10,
         "grau": 2,
         "idade": 60,
         "BMI": 39.96,
         "Pest": true,
         "strat": "Intermediate",
         "_deepnote_index_column": 9
        }
       ],
       "rows_bottom": null
      },
      "text/plain": "   Número de registro  linfonodo     RE     RP    subtipo  pT  grau  idade  \\\n2                  40          4   True  False  luminal b  60     3     63   \n3                 106          0   True   True  luminal a   4     1     54   \n4                 119          1  False  False      her-2  30     2     86   \n6                 318          0   True   True  luminal a  20     1     72   \n9                 325          0   True   True  luminal a  10     2     60   \n\n     BMI  Pest         strat  \n2  27.55  True  Intermediate  \n3  24.24  True           Low  \n4  34.14  True          High  \n6  22.27  True           Low  \n9  39.96  True  Intermediate  ",
      "text/html": "<div>\n<style scoped>\n    .dataframe tbody tr th:only-of-type {\n        vertical-align: middle;\n    }\n\n    .dataframe tbody tr th {\n        vertical-align: top;\n    }\n\n    .dataframe thead th {\n        text-align: right;\n    }\n</style>\n<table border=\"1\" class=\"dataframe\">\n  <thead>\n    <tr style=\"text-align: right;\">\n      <th></th>\n      <th>Número de registro</th>\n      <th>linfonodo</th>\n      <th>RE</th>\n      <th>RP</th>\n      <th>subtipo</th>\n      <th>pT</th>\n      <th>grau</th>\n      <th>idade</th>\n      <th>BMI</th>\n      <th>Pest</th>\n      <th>strat</th>\n    </tr>\n  </thead>\n  <tbody>\n    <tr>\n      <th>2</th>\n      <td>40</td>\n      <td>4</td>\n      <td>True</td>\n      <td>False</td>\n      <td>luminal b</td>\n      <td>60</td>\n      <td>3</td>\n      <td>63</td>\n      <td>27.55</td>\n      <td>True</td>\n      <td>Intermediate</td>\n    </tr>\n    <tr>\n      <th>3</th>\n      <td>106</td>\n      <td>0</td>\n      <td>True</td>\n      <td>True</td>\n      <td>luminal a</td>\n      <td>4</td>\n      <td>1</td>\n      <td>54</td>\n      <td>24.24</td>\n      <td>True</td>\n      <td>Low</td>\n    </tr>\n    <tr>\n      <th>4</th>\n      <td>119</td>\n      <td>1</td>\n      <td>False</td>\n      <td>False</td>\n      <td>her-2</td>\n      <td>30</td>\n      <td>2</td>\n      <td>86</td>\n      <td>34.14</td>\n      <td>True</td>\n      <td>High</td>\n    </tr>\n    <tr>\n      <th>6</th>\n      <td>318</td>\n      <td>0</td>\n      <td>True</td>\n      <td>True</td>\n      <td>luminal a</td>\n      <td>20</td>\n      <td>1</td>\n      <td>72</td>\n      <td>22.27</td>\n      <td>True</td>\n      <td>Low</td>\n    </tr>\n    <tr>\n      <th>9</th>\n      <td>325</td>\n      <td>0</td>\n      <td>True</td>\n      <td>True</td>\n      <td>luminal a</td>\n      <td>10</td>\n      <td>2</td>\n      <td>60</td>\n      <td>39.96</td>\n      <td>True</td>\n      <td>Intermediate</td>\n    </tr>\n  </tbody>\n</table>\n</div>"
     },
     "metadata": {}
    }
   ]
  },
  {
   "cell_type": "code",
   "metadata": {
    "tags": [],
    "cell_id": "00004-c5e5deba-69c4-4364-aade-058b8eebbdd9",
    "deepnote_to_be_reexecuted": false,
    "source_hash": "326a479a",
    "execution_millis": 24,
    "execution_start": 1614027072221,
    "deepnote_cell_type": "code",
    "deepnote_cell_height": 76
   },
   "source": "import dill as pickle",
   "execution_count": null,
   "outputs": []
  },
  {
   "cell_type": "code",
   "metadata": {
    "tags": [],
    "cell_id": "00005-6a7fea66-2c99-491f-90c3-12829960a981",
    "deepnote_to_be_reexecuted": false,
    "source_hash": "6ea7b6bf",
    "execution_millis": 8,
    "execution_start": 1614027072222,
    "deepnote_cell_type": "code",
    "deepnote_cell_height": 221.75
   },
   "source": "# Importação da função de Estratificação de Risco\nwith open('função_estrat.pkl', 'rb') as file:\n    estrat_function = pickle.load(file)\nhelp(estrat_function)",
   "execution_count": null,
   "outputs": [
    {
     "name": "stdout",
     "text": "Help on function estratificacao_risco in module __main__:\n\nestratificacao_risco(linfonodo, RE, RP, subtipo, pT, grau, idade)\n\n",
     "output_type": "stream"
    }
   ]
  },
  {
   "cell_type": "code",
   "metadata": {
    "tags": [],
    "cell_id": "00006-bb5980d7-a492-4e85-9f82-613bb502fb96",
    "deepnote_to_be_reexecuted": false,
    "source_hash": "9fab6fe",
    "execution_millis": 7,
    "execution_start": 1614027072223,
    "deepnote_cell_type": "code",
    "deepnote_cell_height": 287.1875
   },
   "source": "paciente = 47\nteste_entra = {\n    'linfonodo': odim_df.iloc[paciente, 1],\n    'RE': odim_df.iloc[paciente, 2],\n    'RP': odim_df.iloc[paciente, 3],\n    'subtipo': odim_df.iloc[paciente, 4],\n    'pT': odim_df.iloc[paciente, 5],\n    'grau': odim_df.iloc[paciente, 6],\n    'idade': odim_df.iloc[paciente, 7],\n}\nestrat_function(**teste_entra)",
   "execution_count": null,
   "outputs": [
    {
     "name": "stdout",
     "text": "Alto Risco\n",
     "output_type": "stream"
    }
   ]
  },
  {
   "cell_type": "code",
   "metadata": {
    "tags": [],
    "cell_id": "00007-f44def39-bdd2-4696-9859-fdd3a60c4c2d",
    "deepnote_to_be_reexecuted": false,
    "source_hash": "fc68aaee",
    "execution_millis": 17,
    "execution_start": 1614027072224,
    "deepnote_cell_type": "code",
    "deepnote_cell_height": 94
   },
   "source": "#paciente = 47\n#odim_df.iloc[paciente, 10]",
   "execution_count": null,
   "outputs": []
  },
  {
   "cell_type": "code",
   "metadata": {
    "tags": [],
    "cell_id": "00008-60afff5a-76ba-447b-9fc2-cecdd1b2e408",
    "deepnote_to_be_reexecuted": false,
    "source_hash": "12f092da",
    "execution_millis": 2,
    "execution_start": 1614027072225,
    "deepnote_cell_type": "code",
    "deepnote_cell_height": 76
   },
   "source": "odim_df.iloc[47]",
   "execution_count": null,
   "outputs": []
  },
  {
   "cell_type": "code",
   "metadata": {
    "tags": [],
    "cell_id": "00009-1a87cabd-df08-4713-ae6e-4a0e68f2118a",
    "deepnote_to_be_reexecuted": false,
    "source_hash": "b623e53d",
    "execution_millis": 3,
    "execution_start": 1614027072227,
    "deepnote_cell_type": "code",
    "deepnote_cell_height": 76
   },
   "source": "",
   "execution_count": null,
   "outputs": []
  },
  {
   "cell_type": "markdown",
   "source": "<a style='text-decoration:none;line-height:16px;display:flex;color:#5B5B62;padding:10px;justify-content:end;' href='https://deepnote.com?utm_source=created-in-deepnote-cell&projectId=7c500a06-cda2-4c9a-a469-97e5ec913c42' target=\"_blank\">\n<img alt='Created in deepnote.com' style='display:inline;max-height:16px;margin:0px;margin-right:7.5px;' src='data:image/svg+xml;base64,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' > </img>\nCreated in <span style='font-weight:600;margin-left:4px;'>Deepnote</span></a>",
   "metadata": {
    "tags": [],
    "created_in_deepnote_cell": true,
    "deepnote_cell_type": "markdown"
   }
  }
 ],
 "nbformat": 4,
 "nbformat_minor": 2,
 "metadata": {
  "orig_nbformat": 2,
  "deepnote_notebook_id": "f4009658-0a2c-4fb4-b889-9dcf89d50a64",
  "deepnote_execution_queue": [],
  "deepnote": {
   "is_reactive": true
  }
 }
}