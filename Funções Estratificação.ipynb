{
 "cells": [
  {
   "cell_type": "code",
   "metadata": {
    "tags": [],
    "cell_id": "00001-8c62752f-6e7a-44dd-9b13-9eee3c11da3f",
    "output_cleared": false,
    "source_hash": "27920d84",
    "execution_millis": 17,
    "deepnote_to_be_reexecuted": false,
    "execution_start": 1613349503312,
    "deepnote_cell_type": "code",
    "deepnote_cell_height": 133.96875
   },
   "source": "#Fluxograma 1\n#Input de informação para análise no código seguinte. \n# linfonodo = int(input('''Linfonodos comprometidos:'''))\n",
   "execution_count": null,
   "outputs": []
  },
  {
   "cell_type": "code",
   "metadata": {
    "tags": [],
    "cell_id": "00001-bdf37ddb-1138-40a7-9387-f50b00127af9",
    "output_cleared": false,
    "source_hash": "9a6d42e7",
    "execution_millis": 0,
    "deepnote_to_be_reexecuted": false,
    "execution_start": 1613349503329,
    "deepnote_cell_type": "code",
    "deepnote_cell_height": 241.96875
   },
   "source": "#Análise de classificação de acordo com a quantidade de linfonodos positivos.\n# alto_risco = 'Alto Risco'\n# fluxo_tres = 'Fluxograma 3'\n# fluxo_dois = 'Fluxograma 2'\n# if linfonodo == 0:\n#     print(f'{fluxo_tres}')\n# elif linfonodo >= 4:\n#     print(f'{alto_risco}')\n# else: \n#     print(f'{fluxo_dois}')",
   "execution_count": null,
   "outputs": []
  },
  {
   "cell_type": "code",
   "metadata": {
    "tags": [],
    "cell_id": "00002-8a4652bc-bbfa-43a1-8d5f-ab2e64cc260f",
    "output_cleared": false,
    "source_hash": "904d2c60",
    "execution_millis": 0,
    "deepnote_to_be_reexecuted": false,
    "execution_start": 1613349503330,
    "deepnote_cell_type": "code",
    "deepnote_cell_height": 403.96875
   },
   "source": "#Função Fluxograma 1\ndef fluxograma_um(qtd_linfonodo):\n    '''\n    Documento da função: Realizar análise de acometimento linfonodal igual ou acima de 4.\n    E realizar classificação de Alto risco.\n\n    Parâmetros: qtd_linfonodo\n    '''\n    alto_risco = 'Alto Risco'\n    fluxo_tres = 'Fluxograma 3'\n    fluxo_dois = 'Fluxograma 2'\n    if linfonodo == 0:\n        print(f'{fluxo_tres}')\n    elif linfonodo >= 4:\n        print(f'{alto_risco}')\n    else: \n        print(f'{fluxo_dois}')\n    \n",
   "execution_count": null,
   "outputs": []
  },
  {
   "cell_type": "code",
   "metadata": {
    "tags": [],
    "cell_id": "00003-4b8c8a0b-a7c5-42ec-9600-d4d456de89ea",
    "output_cleared": false,
    "source_hash": "ffe33b09",
    "execution_millis": 16,
    "deepnote_to_be_reexecuted": false,
    "execution_start": 1613349503330,
    "deepnote_cell_type": "code",
    "deepnote_cell_height": 130.125
   },
   "source": "linfonodo = 4 \nfluxograma_um(linfonodo)",
   "execution_count": null,
   "outputs": [
    {
     "name": "stdout",
     "text": "Alto Risco\n",
     "output_type": "stream"
    }
   ]
  },
  {
   "cell_type": "code",
   "metadata": {
    "tags": [],
    "cell_id": "00004-2cba4fc2-96cc-4a64-b52a-54889bcf9ca9",
    "output_cleared": false,
    "source_hash": "fb27700d",
    "execution_millis": 0,
    "deepnote_to_be_reexecuted": false,
    "execution_start": 1613349503335,
    "deepnote_cell_type": "code",
    "deepnote_cell_height": 133.96875
   },
   "source": "#Fluxograma 2\n#Input de informação para análise no código seguinte, referente aos receptores hormonais.\n# RE = str(input('''O Receptor de Estrogenio é positivo ou negativo: '''))\n# RP = str(input('''O Receptor de Progesterona é positivo ou negativo: '''))",
   "execution_count": null,
   "outputs": []
  },
  {
   "cell_type": "code",
   "metadata": {
    "tags": [],
    "cell_id": "00005-0bcd957d-112f-4908-9283-0f283321a875",
    "output_cleared": false,
    "source_hash": "5ad88e9d",
    "execution_millis": 0,
    "deepnote_to_be_reexecuted": false,
    "execution_start": 1613349503337,
    "deepnote_cell_type": "code",
    "deepnote_cell_height": 205.96875
   },
   "source": "#Análise de classificação de acordo com a quantidade de linfonodos positivos.\n# intermediario = 'Intermédiario'\n# alto_risco = 'Alto Risco'\n# if RE == 'positivo' and RP == 'positivo': \n#     print(f'{intermediario}')\n# else: \n#     print(f'{alto_risco}')\n",
   "execution_count": null,
   "outputs": []
  },
  {
   "cell_type": "code",
   "metadata": {
    "tags": [],
    "cell_id": "00006-357bf327-f021-4be8-89d6-68177570471e",
    "output_cleared": false,
    "source_hash": "c950662e",
    "execution_millis": 1,
    "deepnote_to_be_reexecuted": false,
    "execution_start": 1660778158827,
    "deepnote_cell_type": "code",
    "deepnote_cell_height": 349.96875
   },
   "source": "#Função Fluxograma 2\ndef fluxograma_dois(RE, RP):\n    '''\n    Documento da função: Realizar análise de expressão dos receptores hormonais, \n    quando linfonodos acometidos são de 1 à 3.\n    RE = receptor de estrogênio; RP = receptor de progesterona. \n\n    Parâmetros: RE, RP.\n    '''\n    intermediario = 'Intermédiario'\n    alto_risco = 'Alto Risco'\n    if RE and RP: \n        print(f'{intermediario}')\n    else: \n        print(f'{alto_risco}')\n",
   "outputs": [],
   "execution_count": null
  },
  {
   "cell_type": "code",
   "source": "entra_flu = {\n    'RE': True,\n    'RP': True,\n}\nfluxograma_dois(**entra_flu)",
   "metadata": {
    "tags": [],
    "cell_id": "00007-ddc569f0-d885-4859-8a43-b56522878b50",
    "output_cleared": false,
    "source_hash": "4c1991f7",
    "execution_millis": 12161,
    "deepnote_to_be_reexecuted": false,
    "execution_start": 1660778185762,
    "deepnote_cell_type": "code",
    "deepnote_cell_height": 184.125,
    "deepnote_output_heights": [
     154.5
    ]
   },
   "outputs": [
    {
     "name": "stdout",
     "text": "Intermédiario\n",
     "output_type": "stream"
    }
   ],
   "execution_count": null
  },
  {
   "cell_type": "code",
   "metadata": {
    "tags": [],
    "cell_id": "00008-a8d3f174-2ac4-4409-95dc-3d0b7c9a43a4",
    "output_cleared": false,
    "source_hash": "461ff6e2",
    "execution_millis": 1,
    "deepnote_to_be_reexecuted": false,
    "execution_start": 1613349503358,
    "deepnote_cell_type": "code",
    "deepnote_cell_height": 151.96875
   },
   "source": "#Fluxograma 3\n#Input de informação para análise no código seguinte, com os subtipos HER-2 e Triplo Negativo.\n# subtipo = str(input('''Qual o Subtipo Molecular:'''))\n# pT = float(input('''Tamanho Tumoral:'''))\n",
   "execution_count": null,
   "outputs": []
  },
  {
   "cell_type": "code",
   "metadata": {
    "tags": [],
    "cell_id": "00009-c5d2e52e-014a-40eb-8ffc-7440e23a0ab7",
    "output_cleared": false,
    "source_hash": "de55a74",
    "execution_millis": 0,
    "deepnote_to_be_reexecuted": false,
    "execution_start": 1613349503365,
    "deepnote_cell_type": "code",
    "deepnote_cell_height": 367.96875
   },
   "source": "#Código para análise referente a classificação para os subtipos HER-2 e Triplo negativo.\n# alto_risco = 'Alto Risco'\n# intermediário = 'Intermediário'\n# fluxo_quatro = 'Fluxograma 4'\n# if subtipo == 'her-2': \n#     if pT > 10:\n#         print(f'{alto_risco}')\n#     else:\n#         print(f'{intermediário}')\n# elif subtipo == 'triplo negativo':\n#     if pT > 20:\n#         print(f'{alto_risco}')\n#     else:\n#         print(f'{intermediário}')\n# else: \n#     print(f'{fluxo_quatro}')\n",
   "execution_count": null,
   "outputs": []
  },
  {
   "cell_type": "code",
   "metadata": {
    "tags": [],
    "cell_id": "00010-c05b312e-b921-4108-94cb-eb84f53f9f44",
    "output_cleared": false,
    "source_hash": "8f4aa8d5",
    "execution_millis": 1,
    "deepnote_to_be_reexecuted": false,
    "execution_start": 1613349503371,
    "deepnote_cell_type": "code",
    "deepnote_cell_height": 511.96875
   },
   "source": "#Função Fluxograma 3\ndef fluxograma_tres(subtipo, pT):\n    '''Documentação da função: Realizar análise de classificação de risco para os\n    subtipos moleculares de maior agressidade (HER-2 ou Luminal-HER e Triplo negativo)\n    em relação ao tamanho tumoral (pT). \n\n    Parâmetros: subtipo, pT.\n    '''\n    alto_risco = 'Alto Risco'\n    intermediário = 'Intermediário'\n    fluxo_quatro = 'Fluxograma 4'\n    if subtipo == 'her-2' or subtipo == 'luminal-her': \n        if pT > 10:\n            print(f'{alto_risco}')\n        else:\n            print(f'{intermediário}')\n    elif subtipo == 'triplo negativo':\n        if pT > 20:\n            print(f'{alto_risco}')\n        else:\n            print(f'{intermediário}')\n    else: \n        print(f'{fluxo_quatro}')\n        \n",
   "execution_count": null,
   "outputs": []
  },
  {
   "cell_type": "code",
   "metadata": {
    "tags": [],
    "cell_id": "00011-9100ba55-49ff-4cd4-b134-fdd99f4fbb73",
    "output_cleared": false,
    "source_hash": "234bd3cf",
    "execution_millis": 86,
    "deepnote_to_be_reexecuted": false,
    "execution_start": 1613349503372,
    "deepnote_cell_type": "code",
    "deepnote_cell_height": 184.125
   },
   "source": "entra_flu = {\n    'subtipo': 'luminal-her',\n    'pT': 30,\n}\nfluxograma_tres(**entra_flu)",
   "execution_count": null,
   "outputs": [
    {
     "name": "stdout",
     "text": "Alto Risco\n",
     "output_type": "stream"
    }
   ]
  },
  {
   "cell_type": "code",
   "metadata": {
    "tags": [],
    "cell_id": "00012-17d9bde7-1b5f-4898-b04c-7ece82d99893",
    "output_cleared": false,
    "source_hash": "b596c1e0",
    "execution_millis": 1,
    "deepnote_to_be_reexecuted": false,
    "execution_start": 1613349503377,
    "deepnote_cell_type": "code",
    "deepnote_cell_height": 151.96875
   },
   "source": "#Fluxograma 4\n#Input de informação para análise de linfonodos negativos.\n# grau = (int(input('''Qual o grau histológico:''')))\n# idade = (int(input('''Qual a idade da paciente:''')))\n",
   "execution_count": null,
   "outputs": []
  },
  {
   "cell_type": "code",
   "metadata": {
    "tags": [],
    "cell_id": "00013-e52b1251-49a8-4dd2-95e0-d56a79cb3cb0",
    "output_cleared": false,
    "source_hash": "f936ca",
    "execution_millis": 1,
    "deepnote_to_be_reexecuted": false,
    "execution_start": 1613349503382,
    "deepnote_cell_type": "code",
    "deepnote_cell_height": 331.96875
   },
   "source": "#Análise de linfonodos negativos.\n# baixo_risco = 'Baixo Risco'\n# intermediario = 'Intermediário'\n# NA = 'Insuficiênte' \n# if linfonodo == 0:\n#     if subtipo == 'luminal a':\n#         if pT <= 20 and grau == 1 and idade >= 35:\n#             print(f'{baixo_risco}')\n#         else: \n#             (f'{intermediario}')\n#     elif subtipo == 'luminal b':\n#         print(f'{intermediário}')\n#     else:\n#         print(f'{NA}')\n",
   "execution_count": null,
   "outputs": []
  },
  {
   "cell_type": "code",
   "metadata": {
    "tags": [],
    "cell_id": "00014-4d20a745-f592-4f77-b922-e315cc14bcb8",
    "output_cleared": false,
    "source_hash": "52d7e408",
    "execution_millis": 26,
    "deepnote_to_be_reexecuted": false,
    "execution_start": 1613349503384,
    "deepnote_cell_type": "code",
    "deepnote_cell_height": 349.96875
   },
   "source": "#Função Fluxograma 4\ndef fluxograma_quatro(subtipo, pT, grau, idade):\n    #Análise de linfonodos negativos.\n    baixo_risco = 'Baixo Risco'\n    intermediario = 'Intermediário'\n    fluxo_tres = 'Fluxograma 3'\n    if subtipo == 'luminal a':\n        if pT <= 20 and grau == 1 and idade >= 35:\n            print(f'{baixo_risco}')\n        else: \n            print(f'{intermediario}')\n    elif subtipo == 'luminal b':\n        print(f'{intermediario}')\n    elif subtipo == 'luminal-her':\n        print(f'{fluxo_tres}')\n",
   "execution_count": null,
   "outputs": []
  },
  {
   "cell_type": "code",
   "metadata": {
    "tags": [],
    "cell_id": "00014-79ddaa37-0679-4454-b634-eef4c527716d",
    "output_cleared": false,
    "source_hash": "36b8b9f1",
    "execution_millis": 1,
    "deepnote_to_be_reexecuted": false,
    "execution_start": 1613349503410,
    "deepnote_cell_type": "code",
    "deepnote_cell_height": 187.96875
   },
   "source": "#entra_flu = {\n    #'subtipo': 'luminal a',\n    #'pT': 20,\n    #'grau': 1,\n    #'idade':40\n#}\n#fluxograma_quatro(**entra_flu)",
   "execution_count": null,
   "outputs": []
  },
  {
   "cell_type": "code",
   "metadata": {
    "tags": [],
    "cell_id": "00016-0c012089-742a-425c-9757-3c12e381c8c3",
    "output_cleared": false,
    "source_hash": "16fe74bb",
    "execution_millis": 1,
    "deepnote_to_be_reexecuted": false,
    "execution_start": 1613349503411,
    "deepnote_cell_type": "code",
    "deepnote_cell_height": 151.96875
   },
   "source": "# subtipo = 'luminal a'\n# pT =  20\n# grau =  1\n# idade =  35\n# fluxograma_quatro(subtipo, pT, grau, idade)",
   "execution_count": null,
   "outputs": []
  },
  {
   "cell_type": "code",
   "metadata": {
    "tags": [],
    "cell_id": "00017-7743b29a-16a0-4944-9e41-610d72598f1b",
    "output_cleared": false,
    "source_hash": "21614744",
    "execution_millis": 11,
    "deepnote_to_be_reexecuted": false,
    "execution_start": 1613349503416,
    "deepnote_cell_type": "code",
    "deepnote_cell_height": 457.96875
   },
   "source": "#Junção das funções de estratificação de risco.\n#Função para os fluxogramas 1 e 2, referentes aos linfonodos positivos.\ndef fluxograma_um_dois(qtd_linfonodo, RE, RP):\n    '''\n    Documentação da função: Realizar a junção das funções dos fluxogramas_um e\n    fluxograma_dois.\n    fluxograma_um = linfonodo iguais ou acima de 4.\n    fluxograma_dois = linofodo igual ou acima de 1 e menor que 3.\n\n    Parâmetros: qtd_linfonodo, RE, RP. \n    '''\n    alto_risco = 'Alto Risco'\n    intermediario = 'Intermédiario'\n    fluxo_tres = 'Fluxograma 3'\n    fluxo_dois = 'Fluxograma 2'\n    if linfonodo == 0:\n        print(fluxo_tres)\n    elif linfonodo >= 4:\n        print(f'{alto_risco}')\n    else: \n        fluxograma_dois(RE, RP)\n    ",
   "execution_count": null,
   "outputs": []
  },
  {
   "cell_type": "code",
   "metadata": {
    "tags": [],
    "cell_id": "00018-5a7665fe-a128-4150-9b46-767b8043e681",
    "output_cleared": false,
    "source_hash": "f9c3c235",
    "execution_millis": 1,
    "deepnote_to_be_reexecuted": false,
    "execution_start": 1613349503427,
    "deepnote_cell_type": "code",
    "deepnote_cell_height": 169.96875
   },
   "source": "#linfonodo = 2\n#entrada = {'qtd_linfonodo': linfonodo, \n#'RE': True, \n#'RP': True, \n#}\n#fluxograma_um_dois(**entrada)",
   "execution_count": null,
   "outputs": []
  },
  {
   "cell_type": "code",
   "metadata": {
    "tags": [],
    "cell_id": "00019-4e7b0280-9597-4deb-9921-f91adae5be4c",
    "output_cleared": false,
    "source_hash": "fc2bdbfd",
    "execution_millis": 6,
    "deepnote_to_be_reexecuted": false,
    "execution_start": 1613349503435,
    "deepnote_cell_type": "code",
    "deepnote_cell_height": 421.96875
   },
   "source": "#Junção das funções de estratificação de risco.\n#Função para os fluxogramas 1, 2 e 3.\ndef fluxograma_um_dois_tres(qtd_linfonodo, RE, RP, subtipo, pT):\n    '''\n    Documentação da função: Realizar a junção das funções dos fluxogramas_um\n    fluxograma_dois e fluxograma_tres. \n    fluxograma_um = linfonodo iguais ou acima de 4.\n    fluxograma_dois = linofodo igual ou acima de 1 e menor que 3.\n    fluxograma_tres = linfonodos negativos.\n\n    Parâmetros: linfonodo, RE, RP, subtipo, pT. \n    '''\n    alto_risco = 'Alto Risco'\n    intermediario = 'Intermédiario'\n    if linfonodo == 0:\n            fluxograma_tres(subtipo, pT)\n    elif linfonodo >= 4:\n        print(f'{alto_risco}')\n    else: \n        fluxograma_dois(RE, RP)",
   "execution_count": null,
   "outputs": []
  },
  {
   "cell_type": "code",
   "metadata": {
    "tags": [],
    "cell_id": "00020-88c93d6f-4854-42cd-a553-73d622cd14aa",
    "output_cleared": false,
    "source_hash": "87b7e86d",
    "execution_millis": 1,
    "deepnote_to_be_reexecuted": false,
    "execution_start": 1613349503441,
    "deepnote_cell_type": "code",
    "deepnote_cell_height": 205.96875
   },
   "source": "#linfonodo = 2\n#entrada = {'qtd_linfonodo': linfonodo, \n    #'RE': True, \n    #'RP': True,\n    #'subtipo': 'her-2',\n    #'pT': 30 \n#}\n#fluxograma_um_dois_tres(**entrada)",
   "execution_count": null,
   "outputs": []
  },
  {
   "cell_type": "code",
   "metadata": {
    "tags": [],
    "cell_id": "00021-5323a941-1efe-4c71-b4ab-e7046b66b033",
    "output_cleared": false,
    "source_hash": "a3194a1f",
    "execution_millis": 2,
    "deepnote_to_be_reexecuted": false,
    "execution_start": 1613349503445,
    "deepnote_cell_type": "code",
    "deepnote_cell_height": 1447.96875
   },
   "source": "#Junção de todos os fluxogramas (1, 2, 3 e 4).\n#Função para Estratificação de risco.\ndef estratificacao_risco(linfonodo, RE, RP, subtipo, pT, grau, idade):\n    def fluxograma_dois(RE, RP):\n        '''\n        Documento da função: Realizar análise de expressão dos receptores hormonais, \n        quando linfonodos acometidos são de 1 à 3.\n        RE = receptor de estrogênio; RP = receptor de progesterona. \n\n        Parâmetros: RE, RP.\n        '''\n        intermediario = 'Intermédiario'\n        alto_risco = 'Alto Risco'\n        if RE and RP: \n            print(f'{intermediario}')\n        else: \n            print(f'{alto_risco}')\n\n    def fluxograma_tres(subtipo, pT):\n        '''Documentação da função: Realizar análise de classificação de risco para os\n        subtipos moleculares de maior agressidade (HER-2 ou Luminal-HER e Triplo negativo)\n        em relação ao tamanho tumoral (pT). \n\n        Parâmetros: subtipo, pT.\n        '''\n        alto_risco = 'Alto Risco'\n        intermediário = 'Intermediário'\n        fluxo_quatro = 'Fluxograma 4'\n        if subtipo == 'her-2' or subtipo == 'luminal-her': \n            if pT > 10:\n                print(f'{alto_risco}')\n            else:\n                print(f'{intermediário}')\n        elif subtipo == 'triplo negativo':\n            if pT > 20:\n                print(f'{alto_risco}')\n            else:\n                print(f'{intermediário}')\n        else: \n            print(f'{fluxo_quatro}')\n            \n\n    def fluxograma_quatro(subtipo, pT, grau, idade):\n        #Análise de linfonodos negativos.\n        baixo_risco = 'Baixo Risco'\n        intermediario = 'Intermediário'\n        fluxo_tres = 'Fluxograma 3'\n        if subtipo == 'luminal a':\n            if pT <= 20 and grau == 1 and idade >= 35:\n                print(f'{baixo_risco}')\n            else: \n                print(f'{intermediario}')\n        elif subtipo == 'luminal b':\n            print(f'{intermediario}')\n        elif subtipo == 'luminal-her':\n            print(f'{fluxo_tres}')\n\n    '''\n    Documentação da função: Realizar a junção das funções de todos os fluxogramas. \n    fluxograma_um = linfonodo iguais ou acima de 4.\n    fluxograma_dois = linofodo igual ou acima de 1 e menor que 3.\n    fluxograma_tres = linfonodos negativos e subtipos HER-2 e triplo negativo.\n    fluxograma_quarto = linfonodos negativos e subtipos luminais.\n\n    Parâmetros: linfonodo, RE, RP, subtipo, pT, grau e idade. \n    '''\n    alto_risco = 'Alto Risco'\n    intermediario = 'Intermédiario'\n    if linfonodo == 0:\n        if subtipo == 'her-2' or subtipo == 'luminal-her' or subtipo == 'triplo negativo':\n            fluxograma_tres(subtipo, pT)\n        else:\n            fluxograma_quatro(subtipo, pT, grau, idade)\n    elif linfonodo >= 4:\n        print(f'{alto_risco}')\n    else: \n        fluxograma_dois(RE, RP)",
   "execution_count": null,
   "outputs": []
  },
  {
   "cell_type": "code",
   "metadata": {
    "tags": [],
    "cell_id": "00022-053219c0-a4db-4a94-a592-6282281075b8",
    "output_cleared": false,
    "source_hash": "abe22cf0",
    "execution_millis": 14,
    "deepnote_to_be_reexecuted": false,
    "execution_start": 1613349503447,
    "deepnote_cell_type": "code",
    "deepnote_cell_height": 274.125
   },
   "source": "linfonodo = 0\nentrada = {'linfonodo': linfonodo, \n    'RE': True, \n    'RP': True,\n    'subtipo': 'luminal a',\n    'pT': 10,\n    'grau': 1,\n    'idade': 40 \n}\nestratificacao_risco(**entrada)",
   "execution_count": null,
   "outputs": [
    {
     "name": "stdout",
     "text": "Baixo Risco\n",
     "output_type": "stream"
    }
   ]
  },
  {
   "cell_type": "code",
   "metadata": {
    "tags": [],
    "cell_id": "00023-bd44007d-589a-408d-b529-02e820fb84b8",
    "deepnote_to_be_reexecuted": false,
    "source_hash": "54b2aaca",
    "execution_millis": 1,
    "execution_start": 1613349592334,
    "deepnote_cell_type": "code",
    "deepnote_cell_height": 133.96875
   },
   "source": "# Exportação da função de Estratificação de Risco\nimport dill as pickle\nwith open('função_estrat.pkl', 'wb') as file:\n    pickle.dump(estratificacao_risco,file)",
   "execution_count": null,
   "outputs": []
  },
  {
   "cell_type": "code",
   "metadata": {
    "tags": [],
    "cell_id": "00023-5d53d098-57a6-471e-9e2b-28f95054694e",
    "deepnote_to_be_reexecuted": false,
    "source_hash": "940d9554",
    "execution_millis": 4,
    "execution_start": 1613349503472,
    "deepnote_cell_type": "code",
    "deepnote_cell_height": 79.96875
   },
   "source": "import os",
   "execution_count": null,
   "outputs": []
  },
  {
   "cell_type": "code",
   "metadata": {
    "tags": [],
    "cell_id": "00024-eba7d9a2-347c-4e0b-845d-d4f40f6dfdb5",
    "deepnote_to_be_reexecuted": false,
    "source_hash": "faadef6b",
    "execution_millis": 8,
    "execution_start": 1613349503483,
    "deepnote_cell_type": "code",
    "deepnote_cell_height": 118.125,
    "deepnote_output_heights": [
     20.1875
    ]
   },
   "source": "os.getcwd()",
   "execution_count": null,
   "outputs": [
    {
     "output_type": "execute_result",
     "execution_count": 26,
     "data": {
      "text/plain": "'/work/Novo'"
     },
     "metadata": {}
    }
   ]
  },
  {
   "cell_type": "code",
   "metadata": {
    "tags": [],
    "cell_id": "00025-295139c0-db17-473e-bc3f-5fa3712682a8",
    "deepnote_to_be_reexecuted": false,
    "source_hash": "6086bf4e",
    "execution_millis": 1,
    "execution_start": 1613349503498,
    "deepnote_cell_type": "code",
    "deepnote_cell_height": 133.96875
   },
   "source": "#Importando segunda planilha adicionada ao ODIM, planilha finalizada 28/09/2020. \n#import pandas as pd\n#odim_data_frame = pd.read_csv('ODIM-2.csv')\n#odim_data_frame",
   "execution_count": null,
   "outputs": []
  },
  {
   "cell_type": "code",
   "metadata": {
    "tags": [],
    "cell_id": "00026-1dac42be-06f2-411a-9c81-a8f48ce00f6c",
    "deepnote_to_be_reexecuted": false,
    "source_hash": "224a0079",
    "execution_millis": 0,
    "execution_start": 1613349503499,
    "deepnote_cell_type": "code",
    "deepnote_cell_height": 97.96875
   },
   "source": "#odim_data_frame['Risk stratification'] = odim_data_frame['Risk stratification'].str.strip()\n#odim_data_frame['Risk stratification'].value_counts()",
   "execution_count": null,
   "outputs": []
  },
  {
   "cell_type": "code",
   "metadata": {
    "tags": [],
    "cell_id": "00026-4fa00959-946d-4f22-9e0c-d333b25c0478",
    "deepnote_to_be_reexecuted": false,
    "source_hash": "8fd5f9ee",
    "execution_millis": 0,
    "execution_start": 1613349503500,
    "deepnote_cell_type": "code",
    "deepnote_cell_height": 115.96875
   },
   "source": "#Selecionando os casos de câncer de mama.\n#odim_breast_canc = odim_data_frame[odim_data_frame['Biopsy histology'] == 'breast cancer']\n#odim_breast_canc",
   "execution_count": null,
   "outputs": []
  },
  {
   "cell_type": "code",
   "metadata": {
    "tags": [],
    "cell_id": "00028-bcb9d7f7-a106-4702-9946-d543141e80a1",
    "deepnote_to_be_reexecuted": false,
    "source_hash": "1294806a",
    "execution_millis": 3,
    "execution_start": 1613349503500,
    "deepnote_cell_type": "code",
    "deepnote_cell_height": 79.96875
   },
   "source": "#odim_breast_canc.columns",
   "execution_count": null,
   "outputs": []
  },
  {
   "cell_type": "code",
   "metadata": {
    "tags": [],
    "cell_id": "00030-c2d5af25-46fb-4a9c-83f7-df4a36af111b",
    "deepnote_to_be_reexecuted": false,
    "source_hash": "f247566e",
    "execution_millis": 4,
    "execution_start": 1613349503504,
    "deepnote_cell_type": "code",
    "deepnote_cell_height": 97.96875
   },
   "source": "#odim_breast_canc_test = odim_breast_canc.iloc[:,[4, 3, 5, 9, 10, 11, 18]]\n#odim_breast_canc_test",
   "execution_count": null,
   "outputs": []
  },
  {
   "cell_type": "code",
   "metadata": {
    "tags": [],
    "cell_id": "00030-2610cbe6-bb83-4bd2-b9b7-a0dc46e97606",
    "deepnote_to_be_reexecuted": false,
    "source_hash": "f9fdf6de",
    "execution_millis": 2,
    "execution_start": 1613349503515,
    "deepnote_cell_type": "code",
    "deepnote_cell_height": 241.96875
   },
   "source": "#Renomeando as colunas de acordo com a função de estratificação.\n#odim_breast_canc_test.rename(columns={'Affected Limphnodes':'linfonodo', \n#'Estrogen Receptors  (% of labeling)': 'RE',\n#'Progesterone receptors (% of labeling)': 'RP',\n#'Molecular subtype of tumor': 'subtipo',\n#'Tumor size (mm)': 'pT',\n#'Histological grade': 'grau',\n#'Age at diagnosis': 'idade'\n#}, inplace = True)\n#odim_breast_canc_test",
   "execution_count": null,
   "outputs": []
  },
  {
   "cell_type": "code",
   "metadata": {
    "tags": [],
    "cell_id": "00031-f0a7f401-f835-4728-9ec1-2f7201a7f63f",
    "deepnote_to_be_reexecuted": false,
    "source_hash": "f657e84d",
    "execution_millis": 0,
    "execution_start": 1613349503517,
    "deepnote_cell_type": "code",
    "deepnote_cell_height": 97.96875
   },
   "source": "#odim_breast_canc_test['subtipo'] = odim_breast_canc_test['subtipo'].str.lower()\n#odim_breast_canc_test",
   "execution_count": null,
   "outputs": []
  },
  {
   "cell_type": "code",
   "metadata": {
    "tags": [],
    "cell_id": "00032-6f78be96-0189-4033-87a1-7ec23934019a",
    "deepnote_to_be_reexecuted": false,
    "source_hash": "41878936",
    "execution_millis": 0,
    "execution_start": 1613349503518,
    "deepnote_cell_type": "code",
    "deepnote_cell_height": 97.96875
   },
   "source": "#odim_breast_canc_test = odim_breast_canc_test.replace('her2 amplified', 'her-2')\n#odim_breast_canc_test",
   "execution_count": null,
   "outputs": []
  },
  {
   "cell_type": "code",
   "metadata": {
    "tags": [],
    "cell_id": "00032-484c7cc2-844c-4a3d-acb2-140942deb1f3",
    "deepnote_to_be_reexecuted": false,
    "source_hash": "32cab67c",
    "execution_millis": 1,
    "execution_start": 1613349503522,
    "deepnote_cell_type": "code",
    "deepnote_cell_height": 97.96875
   },
   "source": "#odim_breast_canc_test = odim_breast_canc_test.replace('triple negative', 'triplo negativo')\n#odim_breast_canc_test",
   "execution_count": null,
   "outputs": []
  },
  {
   "cell_type": "code",
   "metadata": {
    "tags": [],
    "cell_id": "00033-c728a5b3-ca6a-4603-bf77-53f9308f447b",
    "deepnote_to_be_reexecuted": false,
    "source_hash": "ea7a5a52",
    "execution_millis": 2,
    "execution_start": 1613349503524,
    "deepnote_cell_type": "code",
    "deepnote_cell_height": 97.96875
   },
   "source": "#odim_breast_canc_test = odim_breast_canc_test.replace('luminal-her2 amplified', 'luminal-her')\n#odim_breast_canc_test",
   "execution_count": null,
   "outputs": []
  },
  {
   "cell_type": "code",
   "metadata": {
    "tags": [],
    "cell_id": "00035-cea80d78-63ec-431b-9655-479752bb3d33",
    "deepnote_to_be_reexecuted": false,
    "source_hash": "7c2c2bdb",
    "execution_millis": 2,
    "execution_start": 1613349503528,
    "deepnote_cell_type": "code",
    "deepnote_cell_height": 583.96875
   },
   "source": "#Reestruturando data frame\n#def reestruturação(linfonodo, RE, RP, pT, grau):\n    #'''Documento da função: Reestruturação dos valores instanciados na data frame.\n    #linfonodo: 1 - 3 = 1; 4 - 7 = 4.\n    #RE e RP de porcentagem para true or false.\n    #pT e grau de float para int. \n    #Parâmetros: linfonodo, RE, RP, pT, grau.\n    #'''\n    #objeto = ['1 - 3', '4 - 7']\n    #if odim_breast_canc_test['linfonodo'] ==  '1 - 3':\n        #odim_breast_canc_test.replace('1 - 3', '1')\n    #elif odim_breast_canc_test['linfonodo'] ==  '4 - 7':\n        #odim_breast_canc_test.replace('4 - 7', '4')\n    #if odim_breast_canc_test['RE'] == object:\n        #odim_breast_canc_test.astype(bool)\n        #if odim_breast_canc_test['RE'] == 0:\n            #odim_breast_canc_test['RE'] == False\n        #else:\n            #odim_breast_canc_test['RE'] == True\n    #if  odim_breast_canc_test['RP'] == object:\n        #odim_breast_canc_test.astype(bool)\n        #if odim_breast_canc_test['RP'] == 0:\n            #odim_breast_canc_test['RP'] == False\n        #else:\n            #odim_breast_canc_test['RP'] == True\n    #if odim_breast_canc_test['pT'] == float:\n        #odim_breast_canc_test.astype(int)\n    #if odim_breast_canc_tes['grau'] == float:\n        #odim_breast_canc_test.astype(int)",
   "execution_count": null,
   "outputs": []
  },
  {
   "cell_type": "code",
   "metadata": {
    "tags": [],
    "cell_id": "00036-f6118b35-6e86-4f48-bcd0-0da20e5248bc",
    "deepnote_to_be_reexecuted": false,
    "source_hash": "d0cfcbdf",
    "execution_millis": 2,
    "execution_start": 1613349503532,
    "deepnote_cell_type": "code",
    "deepnote_cell_height": 259.96875
   },
   "source": "#Reestruturação linfonodo\n#def reestruturação_linf(linfonodo):\n#    '''Documento da função: Reestruturação dos valores instanciados para linfonodo.\n#    linfonodo: 1 - 3 = 1; 4 - 7 = 4.\n#    Parâmetros: linfonodo.\n#    '''\n#    objeto = ['1 - 3', '4 - 7']\n#    if odim_breast_canc_test['linfonodo'] == objeto:\n#        odim_breast_canc_test.replace('1 - 3', '1')\n#    elif odim_breast_canc_test['linfonodo'] == objeto:\n#        odim_breast_canc_test.replace('4 - 7', '4')",
   "execution_count": null,
   "outputs": []
  },
  {
   "cell_type": "code",
   "metadata": {
    "tags": [],
    "cell_id": "00037-61bd188d-56b4-4d19-9f64-82b2f9491c07",
    "deepnote_to_be_reexecuted": false,
    "source_hash": "5809b699",
    "execution_millis": 1,
    "execution_start": 1613349503535,
    "deepnote_cell_type": "code",
    "deepnote_cell_height": 408.9375
   },
   "source": "#Reestruturação RE e RP\n#def reestruturação_RH(RE, RP):\n#    '''Documento da função: Reestruturação da classe dos valores instanciados para receptores hormonais (RH).\n#    RE e RP = % para boleano. \n#    Parâmetros:RE, RP.\n#    '''\n#    if odim_breast_canc_test['RE'] == object:\n#        odim_breast_canc_test.astype(bool)\n#        if odim_breast_canc_test['RE'] == 0:\n#            odim_breast_canc_test['RE'] == False\n#        else:\n#            odim_breast_canc_test['RE'] == True\n#    if  odim_breast_canc_test['RP'] == object:\n#        odim_breast_canc_test.astype(bool)\n#        if odim_breast_canc_test['RP'] == 0:\n#            odim_breast_canc_test['RP'] == False\n#        else:\n#            odim_breast_canc_test['RP'] == True\n",
   "execution_count": null,
   "outputs": []
  },
  {
   "cell_type": "code",
   "metadata": {
    "tags": [],
    "cell_id": "00038-969dd71f-a3f6-40d8-9bb9-77df5375d979",
    "deepnote_to_be_reexecuted": false,
    "source_hash": "36b9cc22",
    "execution_millis": 0,
    "execution_start": 1613349503586,
    "deepnote_cell_type": "code",
    "deepnote_cell_height": 259.96875
   },
   "source": "#Reestruturação pT e grau\n#def reestruturação_float(pT, grau):\n#    '''Documento da função: Reestruturação da classe dos valores instanciados para tamanho tumoral (pT)\n#    e grau histológico.\n#    pT e grau = float para inteiro.\n#    Parâmetros: pT, grau.\n#    '''\n#    if odim_breast_canc_test['pT'] == float:\n#        odim_breast_canc_test.astype(int)\n#    if odim_breast_canc_tes['grau'] == float:\n#       odim_breast_canc_test.astype(int)",
   "execution_count": null,
   "outputs": []
  },
  {
   "cell_type": "markdown",
   "source": "<a style='text-decoration:none;line-height:16px;display:flex;color:#5B5B62;padding:10px;justify-content:end;' href='https://deepnote.com?utm_source=created-in-deepnote-cell&projectId=7c500a06-cda2-4c9a-a469-97e5ec913c42' target=\"_blank\">\n<img alt='Created in deepnote.com' style='display:inline;max-height:16px;margin:0px;margin-right:7.5px;' src='data:image/svg+xml;base64,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' > </img>\nCreated in <span style='font-weight:600;margin-left:4px;'>Deepnote</span></a>",
   "metadata": {
    "tags": [],
    "created_in_deepnote_cell": true,
    "deepnote_cell_type": "markdown"
   }
  }
 ],
 "nbformat": 4,
 "nbformat_minor": 2,
 "metadata": {
  "orig_nbformat": 2,
  "deepnote_notebook_id": "1ce56851-7d65-48a6-8f50-6cf3faab0166",
  "deepnote_execution_queue": [],
  "deepnote": {}
 }
}